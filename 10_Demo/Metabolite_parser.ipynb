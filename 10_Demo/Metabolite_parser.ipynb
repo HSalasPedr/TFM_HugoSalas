{
 "cells": [
  {
   "cell_type": "code",
   "execution_count": 3,
   "metadata": {},
   "outputs": [],
   "source": [
    "import cometspy as c\n",
    "import pandas as pd\n",
    "from importExcelModel3 import *\n",
    "import cobra as cb"
   ]
  },
  {
   "cell_type": "code",
   "execution_count": 4,
   "metadata": {},
   "outputs": [],
   "source": [
    "model_read = cb.io.read_sbml_model('Final_MOA199.xml')\n",
    "model = c.model(model_read)"
   ]
  },
  {
   "cell_type": "code",
   "execution_count": 6,
   "metadata": {},
   "outputs": [],
   "source": [
    "layout = c.layout(model)\n",
    "x = layout.media\n",
    "list_metabolites = x['metabolite'].to_list()\n",
    "quantity = []\n",
    "mets1000 = ['fe2_e','nh4_e','o2_e','pi_e','so4_e']\n",
    "met10 = ['glc__D_e', 'malt_e']\n",
    "i=0\n",
    "for item in list_metabolites:\n",
    "\n",
    "    if item in mets1000:\n",
    "        quantity.append(1000.0)\n",
    "    elif item in met10:\n",
    "        quantity.append(10.0)\n",
    "    else:\n",
    "        quantity.append(0.0)\n",
    "    i += 1\n"
   ]
  },
  {
   "cell_type": "code",
   "execution_count": 7,
   "metadata": {},
   "outputs": [],
   "source": [
    "import csv"
   ]
  },
  {
   "cell_type": "code",
   "execution_count": 8,
   "metadata": {},
   "outputs": [],
   "source": [
    "data = {'Metabolite': list_metabolites, 'Quantity': quantity}\n",
    "df =  pd.DataFrame(data, columns = ['Metabolite','Quantity'])\n",
    "df = df.sort_values('Quantity', ascending = False)\n",
    "df.to_csv('Metabolites-quantity1.txt',sep = '\\t', index = False)"
   ]
  },
  {
   "cell_type": "code",
   "execution_count": null,
   "metadata": {},
   "outputs": [],
   "source": []
  }
 ],
 "metadata": {
  "kernelspec": {
   "display_name": "Python 3 (ipykernel)",
   "language": "python",
   "name": "python3"
  },
  "language_info": {
   "codemirror_mode": {
    "name": "ipython",
    "version": 3
   },
   "file_extension": ".py",
   "mimetype": "text/x-python",
   "name": "python",
   "nbconvert_exporter": "python",
   "pygments_lexer": "ipython3",
   "version": "3.10.12"
  }
 },
 "nbformat": 4,
 "nbformat_minor": 4
}
