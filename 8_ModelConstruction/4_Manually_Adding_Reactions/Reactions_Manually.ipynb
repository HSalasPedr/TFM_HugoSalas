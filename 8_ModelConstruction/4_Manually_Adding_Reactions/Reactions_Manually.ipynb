{
 "cells": [
  {
   "cell_type": "code",
   "execution_count": 1,
   "id": "6c411040",
   "metadata": {},
   "outputs": [],
   "source": [
    "import cobra\n",
    "from cobra.io import read_sbml_model"
   ]
  },
  {
   "cell_type": "code",
   "execution_count": 2,
   "id": "37f6ee81",
   "metadata": {},
   "outputs": [
    {
     "name": "stdout",
     "output_type": "stream",
     "text": [
      "Set parameter Username\n",
      "Academic license - for non-commercial use only - expires 2023-12-18\n"
     ]
    }
   ],
   "source": [
    "mod1 = read_sbml_model('PmegMOA.xml')"
   ]
  },
  {
   "cell_type": "code",
   "execution_count": 3,
   "id": "82b5bd10",
   "metadata": {},
   "outputs": [],
   "source": [
    "mod2 = read_sbml_model('iYO844.xml')"
   ]
  },
  {
   "cell_type": "code",
   "execution_count": 4,
   "id": "43bbf4b0",
   "metadata": {},
   "outputs": [
    {
     "data": {
      "text/html": [
       "<h3>Objective</h3><p>1.0 BIOMASS_BS_10 = 0.11796638932239926</p><h4>Uptake</h4><table border=\"1\" class=\"dataframe\">\n",
       "  <thead>\n",
       "    <tr style=\"text-align: right;\">\n",
       "      <th>Metabolite</th>\n",
       "      <th>Reaction</th>\n",
       "      <th>Flux</th>\n",
       "      <th>C-Number</th>\n",
       "      <th>C-Flux</th>\n",
       "    </tr>\n",
       "  </thead>\n",
       "  <tbody>\n",
       "    <tr>\n",
       "      <td>ca2_e</td>\n",
       "      <td>EX_ca2_e</td>\n",
       "      <td>0.0003781</td>\n",
       "      <td>0</td>\n",
       "      <td>0.00%</td>\n",
       "    </tr>\n",
       "    <tr>\n",
       "      <td>fe3_e</td>\n",
       "      <td>EX_fe3_e</td>\n",
       "      <td>0.000407</td>\n",
       "      <td>0</td>\n",
       "      <td>0.00%</td>\n",
       "    </tr>\n",
       "    <tr>\n",
       "      <td>glc__D_e</td>\n",
       "      <td>EX_glc__D_e</td>\n",
       "      <td>1.7</td>\n",
       "      <td>6</td>\n",
       "      <td>100.00%</td>\n",
       "    </tr>\n",
       "    <tr>\n",
       "      <td>k_e</td>\n",
       "      <td>EX_k_e</td>\n",
       "      <td>0.08332</td>\n",
       "      <td>0</td>\n",
       "      <td>0.00%</td>\n",
       "    </tr>\n",
       "    <tr>\n",
       "      <td>mg2_e</td>\n",
       "      <td>EX_mg2_e</td>\n",
       "      <td>0.012</td>\n",
       "      <td>0</td>\n",
       "      <td>0.00%</td>\n",
       "    </tr>\n",
       "    <tr>\n",
       "      <td>nh4_e</td>\n",
       "      <td>EX_nh4_e</td>\n",
       "      <td>0.945</td>\n",
       "      <td>0</td>\n",
       "      <td>0.00%</td>\n",
       "    </tr>\n",
       "    <tr>\n",
       "      <td>o2_e</td>\n",
       "      <td>EX_o2_e</td>\n",
       "      <td>5.706</td>\n",
       "      <td>0</td>\n",
       "      <td>0.00%</td>\n",
       "    </tr>\n",
       "    <tr>\n",
       "      <td>pi_e</td>\n",
       "      <td>EX_pi_e</td>\n",
       "      <td>0.1811</td>\n",
       "      <td>0</td>\n",
       "      <td>0.00%</td>\n",
       "    </tr>\n",
       "    <tr>\n",
       "      <td>so4_e</td>\n",
       "      <td>EX_so4_e</td>\n",
       "      <td>0.02009</td>\n",
       "      <td>0</td>\n",
       "      <td>0.00%</td>\n",
       "    </tr>\n",
       "  </tbody>\n",
       "</table><h4>Secretion</h4><table border=\"1\" class=\"dataframe\">\n",
       "  <thead>\n",
       "    <tr style=\"text-align: right;\">\n",
       "      <th>Metabolite</th>\n",
       "      <th>Reaction</th>\n",
       "      <th>Flux</th>\n",
       "      <th>C-Number</th>\n",
       "      <th>C-Flux</th>\n",
       "    </tr>\n",
       "  </thead>\n",
       "  <tbody>\n",
       "    <tr>\n",
       "      <td>co2_e</td>\n",
       "      <td>EX_co2_e</td>\n",
       "      <td>-5.981</td>\n",
       "      <td>1</td>\n",
       "      <td>100.00%</td>\n",
       "    </tr>\n",
       "    <tr>\n",
       "      <td>h2o_e</td>\n",
       "      <td>EX_h2o_e</td>\n",
       "      <td>-7.87</td>\n",
       "      <td>0</td>\n",
       "      <td>0.00%</td>\n",
       "    </tr>\n",
       "    <tr>\n",
       "      <td>h_e</td>\n",
       "      <td>EX_h_e</td>\n",
       "      <td>-0.7677</td>\n",
       "      <td>0</td>\n",
       "      <td>0.00%</td>\n",
       "    </tr>\n",
       "  </tbody>\n",
       "</table>"
      ],
      "text/plain": [
       "<cobra.summary.model_summary.ModelSummary at 0x7f26b4f786a0>"
      ]
     },
     "execution_count": 4,
     "metadata": {},
     "output_type": "execute_result"
    }
   ],
   "source": [
    "mod2.summary()"
   ]
  },
  {
   "cell_type": "code",
   "execution_count": 5,
   "id": "46e84a72",
   "metadata": {},
   "outputs": [
    {
     "data": {
      "text/html": [
       "<h3>ARG[c]</h3><p>C6H15N4O2</p><h4>Producing Reactions</h4><table border=\"1\" class=\"dataframe\">\n",
       "  <thead>\n",
       "    <tr style=\"text-align: right;\">\n",
       "      <th>Percent</th>\n",
       "      <th>Flux</th>\n",
       "      <th>Reaction</th>\n",
       "      <th>Definition</th>\n",
       "    </tr>\n",
       "  </thead>\n",
       "  <tbody>\n",
       "  </tbody>\n",
       "</table><h4>Consuming Reactions</h4><table border=\"1\" class=\"dataframe\">\n",
       "  <thead>\n",
       "    <tr style=\"text-align: right;\">\n",
       "      <th>Percent</th>\n",
       "      <th>Flux</th>\n",
       "      <th>Reaction</th>\n",
       "      <th>Definition</th>\n",
       "    </tr>\n",
       "  </thead>\n",
       "  <tbody>\n",
       "  </tbody>\n",
       "</table>"
      ],
      "text/plain": [
       "<cobra.summary.metabolite_summary.MetaboliteSummary at 0x7f26b3efe310>"
      ]
     },
     "execution_count": 5,
     "metadata": {},
     "output_type": "execute_result"
    }
   ],
   "source": [
    "mod1.metabolites.get_by_id('ARG[c]').summary()"
   ]
  },
  {
   "cell_type": "code",
   "execution_count": 6,
   "id": "3d99894e",
   "metadata": {},
   "outputs": [
    {
     "data": {
      "text/html": [
       "<h3>arg__L_c</h3><p>C6H15N4O2</p><h4>Producing Reactions</h4><table border=\"1\" class=\"dataframe\">\n",
       "  <thead>\n",
       "    <tr style=\"text-align: right;\">\n",
       "      <th>Percent</th>\n",
       "      <th>Flux</th>\n",
       "      <th>Reaction</th>\n",
       "      <th>Definition</th>\n",
       "    </tr>\n",
       "  </thead>\n",
       "  <tbody>\n",
       "    <tr>\n",
       "      <td>100.00%</td>\n",
       "      <td>0.02277</td>\n",
       "      <td>ARGSL</td>\n",
       "      <td>argsuc_c &lt;=&gt; arg__L_c + fum_c</td>\n",
       "    </tr>\n",
       "  </tbody>\n",
       "</table><h4>Consuming Reactions</h4><table border=\"1\" class=\"dataframe\">\n",
       "  <thead>\n",
       "    <tr style=\"text-align: right;\">\n",
       "      <th>Percent</th>\n",
       "      <th>Flux</th>\n",
       "      <th>Reaction</th>\n",
       "      <th>Definition</th>\n",
       "    </tr>\n",
       "  </thead>\n",
       "  <tbody>\n",
       "    <tr>\n",
       "      <td>100.00%</td>\n",
       "      <td>-0.02277</td>\n",
       "      <td>BIOMASS_BS_10</td>\n",
       "      <td>0.000367 10fthf_c + 0.266902 ala__L_c + 0.00467 amp_c + 0.193021 arg__L_c + 0.147987 asn__L_c + 0.148014 asp__L_c + 105.053483 atp_c + 0.003205 ca2_c + 5e-06 cdlp_BS_c + 0.000251 cdp_c + 0.001042 cmp_c + 0.038902 ctp_c + 0.05699 cys__L_c + 0.00011 d12dg_BS_c + 0.022982 datp_c + 0.01738 dctp_c + 0.017398 dgtp_c + 0.022899 dttp_c + 0.00345 fe3_c + 0.00018 gdp_c + 0.260335 gln__L_c + 0.260378 glu__L_c + 0.408288 gly_c + 0.000503 gmp_c + 0.003624 gtca1_45_BS_c + 0.002347 gtca2_45_BS_c + 0.001819 gtca3_45_BS_c + 0.062667 gtp_c + 105.0 h2o_c + 0.081739 his__L_c + 0.269905 ile__L_c + 0.706312 k_c + 0.346445 leu__L_c + 7e-06 lipo1_24_BS_c + 6e-06 lipo2_24_BS_c + 1.8e-05 lipo3_24_BS_c + 1.5e-05 lipo4_24_BS_c + 0.323093 lys__L_c + 2.2e-05 lysylpgly_BS_c + 8.6e-05 m12dg_BS_c + 0.113326 met__L_c + 0.101714 mg2_c + 0.000266 mql7_c + 0.016164 nad_c + 0.000934 nadp_c + 0.000216 nadph_c + 0.101817 peptido_BS_c + 0.000176 pgly_BS_c + 0.175939 phe__L_c + 0.000918 ppi_c + 0.160642 pro__L_c + 0.00056 psetha_BS_c + 0.216213 ser__L_c + 6.6e-05 t12dg_BS_c + 0.003112 tcam_BS_c + 0.186317 thr__L_c + 0.054336 trp__L_c + 0.110824 tyr__L_c + 0.041501 utp_c + 0.306734 val__L_c --&gt; 104.997414 adp_c + 105.0 h_c + 104.985613 pi_c</td>\n",
       "    </tr>\n",
       "  </tbody>\n",
       "</table>"
      ],
      "text/plain": [
       "<cobra.summary.metabolite_summary.MetaboliteSummary at 0x7f26b3efee80>"
      ]
     },
     "execution_count": 6,
     "metadata": {},
     "output_type": "execute_result"
    }
   ],
   "source": [
    "mod2.metabolites.arg__L_c.summary()"
   ]
  },
  {
   "cell_type": "code",
   "execution_count": 7,
   "id": "90d30c39",
   "metadata": {},
   "outputs": [
    {
     "data": {
      "text/html": [
       "<h3>ICDHyr</h3><p>icit_c + nadp_c <=> akg_c + co2_c + nadph_c</p><p>Bounds: -999999.0, 999999.0</p><p>Flux: 1.972</p>"
      ],
      "text/plain": [
       "<cobra.summary.reaction_summary.ReactionSummary at 0x7f26b3e5af70>"
      ]
     },
     "execution_count": 7,
     "metadata": {},
     "output_type": "execute_result"
    }
   ],
   "source": [
    "mod2.reactions.get_by_id('ICDHyr').summary()"
   ]
  },
  {
   "cell_type": "markdown",
   "id": "94a39ca0",
   "metadata": {},
   "source": [
    "---------------------------------"
   ]
  },
  {
   "cell_type": "code",
   "execution_count": 20,
   "id": "a828477b",
   "metadata": {},
   "outputs": [
    {
     "data": {
      "text/plain": [
       "'0.25915 ALA[c] + 0.00452 AMP[c] + 0.14372 ARG[c] + 0.14373 ASN[c] + 0.143721 ASP[c] + 56.8905 ATP[c] + 0.0312 CA[c] + 0.00025 CDP[c] + 0.00099 CMP[c] + 0.0493 CTP[c] + 0.05504 CYS[c] + 0.01443 DATP[c] + 0.00923 DCTP[c] + 0.00923 DGTP[c] + 0.01443 DTTP[c] + 0.00336 FE3[c] + 0.00036 FTHF[c] + 0.00019 GDP[c] + 0.25287 GLN[c] + 0.25287 GLU[c] + 0.396288 GLY[c] + 0.00051 GMP[c] + 0.07836 GTP[c] + 56.82 H2O[c] + 0.079349 HIS[c] + 0.26204 ILE[c] + 0.3886 K[c] + 0.33635 LEU[c] + 0.31373 LYS[c] + 0.11005 MET[c] + 0.0992 MG[c] + 0.00023 MQL8[c] + 0.0002 NADPH[c] + 0.00091 NADP[c] + 0.01567 NAD[c] + 0.17083 PHE[c] + 0.156032 PRO[c] + 0.20994 SER[c] + 0.18095 THR[c] + 0.05277 TRP[c] + 0.10761 TYR[c] + 0.05183 UTP[c] + 0.29797 VAL[c] + 0.2716 cpd15664[c] + 0.00194 cpd15670[c] + 0.07373 cpd15800[c] --> 56.82 ADP[c] + 56.82 H[c] + 56.8058 PI[c] + 0.28628 PPI[c]'"
      ]
     },
     "execution_count": 20,
     "metadata": {},
     "output_type": "execute_result"
    }
   ],
   "source": [
    "mod1.reactions.biomass.reaction"
   ]
  },
  {
   "cell_type": "code",
   "execution_count": 74,
   "id": "ac81709b",
   "metadata": {},
   "outputs": [],
   "source": [
    "mod1.objective = 'Re_bm01362'\n",
    "#mod1.add_boundary(mod1.metabolites.get_by_id(\"ARG[c]\"), type=\"sink\")"
   ]
  },
  {
   "cell_type": "code",
   "execution_count": 75,
   "id": "35a04ab9",
   "metadata": {},
   "outputs": [
    {
     "data": {
      "text/html": [
       "<h3>Objective</h3><p>1.0 Re_bm01362 = 0.0</p><h4>Uptake</h4><table border=\"1\" class=\"dataframe\">\n",
       "  <thead>\n",
       "    <tr style=\"text-align: right;\">\n",
       "      <th>Metabolite</th>\n",
       "      <th>Reaction</th>\n",
       "      <th>Flux</th>\n",
       "      <th>C-Number</th>\n",
       "      <th>C-Flux</th>\n",
       "    </tr>\n",
       "  </thead>\n",
       "  <tbody>\n",
       "  </tbody>\n",
       "</table><h4>Secretion</h4><table border=\"1\" class=\"dataframe\">\n",
       "  <thead>\n",
       "    <tr style=\"text-align: right;\">\n",
       "      <th>Metabolite</th>\n",
       "      <th>Reaction</th>\n",
       "      <th>Flux</th>\n",
       "      <th>C-Number</th>\n",
       "      <th>C-Flux</th>\n",
       "    </tr>\n",
       "  </thead>\n",
       "  <tbody>\n",
       "  </tbody>\n",
       "</table>"
      ],
      "text/plain": [
       "<cobra.summary.model_summary.ModelSummary at 0x7fcc4516ed60>"
      ]
     },
     "execution_count": 75,
     "metadata": {},
     "output_type": "execute_result"
    }
   ],
   "source": [
    "mod1.summary()"
   ]
  },
  {
   "cell_type": "code",
   "execution_count": 72,
   "id": "ace04574",
   "metadata": {},
   "outputs": [],
   "source": [
    "mod1.reactions.get_by_id('SK_ARG[c]').lower_bound = 0"
   ]
  },
  {
   "cell_type": "markdown",
   "id": "296cee63",
   "metadata": {},
   "source": [
    "---"
   ]
  },
  {
   "cell_type": "code",
   "execution_count": 68,
   "id": "a690b2c2",
   "metadata": {},
   "outputs": [],
   "source": [
    "mod2.add_boundary(mod2.metabolites.get_by_id(\"trp__L_c\"), type=\"demand\")\n",
    "mod2.objective = 'DM_trp__L_c'"
   ]
  },
  {
   "cell_type": "code",
   "execution_count": 69,
   "id": "5ca0dd29",
   "metadata": {},
   "outputs": [
    {
     "data": {
      "text/html": [
       "<h3>Objective</h3><p>1.0 DM_trp__L_c = 0.5967592592592591</p><h4>Uptake</h4><table border=\"1\" class=\"dataframe\">\n",
       "  <thead>\n",
       "    <tr style=\"text-align: right;\">\n",
       "      <th>Metabolite</th>\n",
       "      <th>Reaction</th>\n",
       "      <th>Flux</th>\n",
       "      <th>C-Number</th>\n",
       "      <th>C-Flux</th>\n",
       "    </tr>\n",
       "  </thead>\n",
       "  <tbody>\n",
       "    <tr>\n",
       "      <td>glc__D_e</td>\n",
       "      <td>EX_glc__D_e</td>\n",
       "      <td>1.7</td>\n",
       "      <td>6</td>\n",
       "      <td>100.00%</td>\n",
       "    </tr>\n",
       "    <tr>\n",
       "      <td>nh4_e</td>\n",
       "      <td>EX_nh4_e</td>\n",
       "      <td>1.194</td>\n",
       "      <td>0</td>\n",
       "      <td>0.00%</td>\n",
       "    </tr>\n",
       "    <tr>\n",
       "      <td>o2_e</td>\n",
       "      <td>EX_o2_e</td>\n",
       "      <td>3.337</td>\n",
       "      <td>0</td>\n",
       "      <td>0.00%</td>\n",
       "    </tr>\n",
       "  </tbody>\n",
       "</table><h4>Secretion</h4><table border=\"1\" class=\"dataframe\">\n",
       "  <thead>\n",
       "    <tr style=\"text-align: right;\">\n",
       "      <th>Metabolite</th>\n",
       "      <th>Reaction</th>\n",
       "      <th>Flux</th>\n",
       "      <th>C-Number</th>\n",
       "      <th>C-Flux</th>\n",
       "    </tr>\n",
       "  </thead>\n",
       "  <tbody>\n",
       "    <tr>\n",
       "      <td>trp__L_c</td>\n",
       "      <td>DM_trp__L_c</td>\n",
       "      <td>-0.5968</td>\n",
       "      <td>11</td>\n",
       "      <td>64.36%</td>\n",
       "    </tr>\n",
       "    <tr>\n",
       "      <td>co2_e</td>\n",
       "      <td>EX_co2_e</td>\n",
       "      <td>-3.636</td>\n",
       "      <td>1</td>\n",
       "      <td>35.64%</td>\n",
       "    </tr>\n",
       "    <tr>\n",
       "      <td>h2o_e</td>\n",
       "      <td>EX_h2o_e</td>\n",
       "      <td>-8.41</td>\n",
       "      <td>0</td>\n",
       "      <td>0.00%</td>\n",
       "    </tr>\n",
       "    <tr>\n",
       "      <td>h_e</td>\n",
       "      <td>EX_h_e</td>\n",
       "      <td>-1.194</td>\n",
       "      <td>0</td>\n",
       "      <td>0.00%</td>\n",
       "    </tr>\n",
       "  </tbody>\n",
       "</table>"
      ],
      "text/plain": [
       "<cobra.summary.model_summary.ModelSummary at 0x7f2529d2d5b0>"
      ]
     },
     "execution_count": 69,
     "metadata": {},
     "output_type": "execute_result"
    }
   ],
   "source": [
    "mod2.summary()"
   ]
  },
  {
   "cell_type": "code",
   "execution_count": 70,
   "id": "2c7dd9ed",
   "metadata": {},
   "outputs": [
    {
     "data": {
      "text/html": [
       "<h3>trp__L_c</h3><p>C11H12N2O2</p><h4>Producing Reactions</h4><table border=\"1\" class=\"dataframe\">\n",
       "  <thead>\n",
       "    <tr style=\"text-align: right;\">\n",
       "      <th>Percent</th>\n",
       "      <th>Flux</th>\n",
       "      <th>Reaction</th>\n",
       "      <th>Definition</th>\n",
       "    </tr>\n",
       "  </thead>\n",
       "  <tbody>\n",
       "    <tr>\n",
       "      <td>100.00%</td>\n",
       "      <td>0.5968</td>\n",
       "      <td>TRPS1</td>\n",
       "      <td>3ig3p_c + ser__L_c --&gt; g3p_c + h2o_c + trp__L_c</td>\n",
       "    </tr>\n",
       "  </tbody>\n",
       "</table><h4>Consuming Reactions</h4><table border=\"1\" class=\"dataframe\">\n",
       "  <thead>\n",
       "    <tr style=\"text-align: right;\">\n",
       "      <th>Percent</th>\n",
       "      <th>Flux</th>\n",
       "      <th>Reaction</th>\n",
       "      <th>Definition</th>\n",
       "    </tr>\n",
       "  </thead>\n",
       "  <tbody>\n",
       "    <tr>\n",
       "      <td>100.00%</td>\n",
       "      <td>-0.5968</td>\n",
       "      <td>DM_trp__L_c</td>\n",
       "      <td>trp__L_c --&gt;</td>\n",
       "    </tr>\n",
       "  </tbody>\n",
       "</table>"
      ],
      "text/plain": [
       "<cobra.summary.metabolite_summary.MetaboliteSummary at 0x7f2529d46550>"
      ]
     },
     "execution_count": 70,
     "metadata": {},
     "output_type": "execute_result"
    }
   ],
   "source": [
    "mod2.metabolites.trp__L_c.summary()"
   ]
  },
  {
   "cell_type": "code",
   "execution_count": 66,
   "id": "1cd581ab",
   "metadata": {},
   "outputs": [],
   "source": [
    "mod2.reactions.DM_tyr__L_c.upper_bound = 0"
   ]
  },
  {
   "cell_type": "code",
   "execution_count": 67,
   "id": "085e9a87",
   "metadata": {},
   "outputs": [
    {
     "data": {
      "text/html": [
       "\n",
       "        <table>\n",
       "            <tr>\n",
       "                <td><strong>Reaction identifier</strong></td><td>DM_tyr__L_c</td>\n",
       "            </tr><tr>\n",
       "                <td><strong>Name</strong></td><td>L-Tyrosine demand</td>\n",
       "            </tr><tr>\n",
       "                <td><strong>Memory address</strong></td>\n",
       "                <td>0x7f2529e50070</td>\n",
       "            </tr><tr>\n",
       "                <td><strong>Stoichiometry</strong></td>\n",
       "                <td>\n",
       "                    <p style='text-align:right'>tyr__L_c --></p>\n",
       "                    <p style='text-align:right'>L-Tyrosine --></p>\n",
       "                </td>\n",
       "            </tr><tr>\n",
       "                <td><strong>GPR</strong></td><td></td>\n",
       "            </tr><tr>\n",
       "                <td><strong>Lower bound</strong></td><td>0</td>\n",
       "            </tr><tr>\n",
       "                <td><strong>Upper bound</strong></td><td>0</td>\n",
       "            </tr>\n",
       "        </table>\n",
       "        "
      ],
      "text/plain": [
       "<Reaction DM_tyr__L_c at 0x7f2529e50070>"
      ]
     },
     "execution_count": 67,
     "metadata": {},
     "output_type": "execute_result"
    }
   ],
   "source": [
    "mod2.reactions.DM_tyr__L_c"
   ]
  },
  {
   "cell_type": "code",
   "execution_count": 35,
   "id": "a3a82013",
   "metadata": {},
   "outputs": [
    {
     "data": {
      "text/html": [
       "\n",
       "        <table>\n",
       "            <tr>\n",
       "                <td><strong>Reaction identifier</strong></td><td>GLYAT</td>\n",
       "            </tr><tr>\n",
       "                <td><strong>Name</strong></td><td>Glycine C-acetyltransferase</td>\n",
       "            </tr><tr>\n",
       "                <td><strong>Memory address</strong></td>\n",
       "                <td>0x7f252af80d60</td>\n",
       "            </tr><tr>\n",
       "                <td><strong>Stoichiometry</strong></td>\n",
       "                <td>\n",
       "                    <p style='text-align:right'>accoa_c + gly_c <=> 2aobut_c + coa_c</p>\n",
       "                    <p style='text-align:right'>Acetyl-CoA + Glycine <=> L-2-Amino-3-oxobutanoate + Coenzyme A</p>\n",
       "                </td>\n",
       "            </tr><tr>\n",
       "                <td><strong>GPR</strong></td><td>BSU17000</td>\n",
       "            </tr><tr>\n",
       "                <td><strong>Lower bound</strong></td><td>-999999.0</td>\n",
       "            </tr><tr>\n",
       "                <td><strong>Upper bound</strong></td><td>999999.0</td>\n",
       "            </tr>\n",
       "        </table>\n",
       "        "
      ],
      "text/plain": [
       "<Reaction GLYAT at 0x7f252af80d60>"
      ]
     },
     "execution_count": 35,
     "metadata": {},
     "output_type": "execute_result"
    }
   ],
   "source": [
    "mod2.reactions.GLYAT"
   ]
  },
  {
   "cell_type": "markdown",
   "id": "a73096eb",
   "metadata": {},
   "source": [
    "## Now with lipids"
   ]
  },
  {
   "cell_type": "code",
   "execution_count": 2,
   "id": "0fe70f65",
   "metadata": {},
   "outputs": [
    {
     "name": "stdout",
     "output_type": "stream",
     "text": [
      "Set parameter Username\n",
      "Academic license - for non-commercial use only - expires 2023-12-18\n"
     ]
    },
    {
     "data": {
      "text/html": [
       "<h3>Objective</h3><p>1.0 biomass = 0.23811627668312507</p><h4>Uptake</h4><table border=\"1\" class=\"dataframe\">\n",
       "  <thead>\n",
       "    <tr style=\"text-align: right;\">\n",
       "      <th>Metabolite</th>\n",
       "      <th>Reaction</th>\n",
       "      <th>Flux</th>\n",
       "      <th>C-Number</th>\n",
       "      <th>C-Flux</th>\n",
       "    </tr>\n",
       "  </thead>\n",
       "  <tbody>\n",
       "    <tr>\n",
       "      <td>GLC[e]</td>\n",
       "      <td>Re_bm01273</td>\n",
       "      <td>5</td>\n",
       "      <td>6</td>\n",
       "      <td>98.19%</td>\n",
       "    </tr>\n",
       "    <tr>\n",
       "      <td>CA[e]</td>\n",
       "      <td>Re_bm01294</td>\n",
       "      <td>0.007429</td>\n",
       "      <td>0</td>\n",
       "      <td>0.00%</td>\n",
       "    </tr>\n",
       "    <tr>\n",
       "      <td>O2[e]</td>\n",
       "      <td>Re_bm01302</td>\n",
       "      <td>21.43</td>\n",
       "      <td>0</td>\n",
       "      <td>0.00%</td>\n",
       "    </tr>\n",
       "    <tr>\n",
       "      <td>NH3[e]</td>\n",
       "      <td>Re_bm01304</td>\n",
       "      <td>1.886</td>\n",
       "      <td>0</td>\n",
       "      <td>0.00%</td>\n",
       "    </tr>\n",
       "    <tr>\n",
       "      <td>K[e]</td>\n",
       "      <td>Re_bm01306</td>\n",
       "      <td>0.09253</td>\n",
       "      <td>0</td>\n",
       "      <td>0.00%</td>\n",
       "    </tr>\n",
       "    <tr>\n",
       "      <td>MG[e]</td>\n",
       "      <td>Re_bm01307</td>\n",
       "      <td>0.02362</td>\n",
       "      <td>0</td>\n",
       "      <td>0.00%</td>\n",
       "    </tr>\n",
       "    <tr>\n",
       "      <td>FE2[e]</td>\n",
       "      <td>Re_bm01308</td>\n",
       "      <td>0.0008001</td>\n",
       "      <td>0</td>\n",
       "      <td>0.00%</td>\n",
       "    </tr>\n",
       "    <tr>\n",
       "      <td>PI[e]</td>\n",
       "      <td>Re_bm01313</td>\n",
       "      <td>0.1627</td>\n",
       "      <td>0</td>\n",
       "      <td>0.00%</td>\n",
       "    </tr>\n",
       "    <tr>\n",
       "      <td>SME3P[e]</td>\n",
       "      <td>Re_bm01686</td>\n",
       "      <td>0.07901</td>\n",
       "      <td>7</td>\n",
       "      <td>1.81%</td>\n",
       "    </tr>\n",
       "  </tbody>\n",
       "</table><h4>Secretion</h4><table border=\"1\" class=\"dataframe\">\n",
       "  <thead>\n",
       "    <tr style=\"text-align: right;\">\n",
       "      <th>Metabolite</th>\n",
       "      <th>Reaction</th>\n",
       "      <th>Flux</th>\n",
       "      <th>C-Number</th>\n",
       "      <th>C-Flux</th>\n",
       "    </tr>\n",
       "  </thead>\n",
       "  <tbody>\n",
       "    <tr>\n",
       "      <td>CO2[e]</td>\n",
       "      <td>Re_bm01300</td>\n",
       "      <td>-21.92</td>\n",
       "      <td>1</td>\n",
       "      <td>100.00%</td>\n",
       "    </tr>\n",
       "    <tr>\n",
       "      <td>H2O[e]</td>\n",
       "      <td>Re_bm01301</td>\n",
       "      <td>-25.52</td>\n",
       "      <td>0</td>\n",
       "      <td>0.00%</td>\n",
       "    </tr>\n",
       "    <tr>\n",
       "      <td>H[e]</td>\n",
       "      <td>Re_bm01309</td>\n",
       "      <td>-8.509</td>\n",
       "      <td>0</td>\n",
       "      <td>0.00%</td>\n",
       "    </tr>\n",
       "  </tbody>\n",
       "</table>"
      ],
      "text/plain": [
       "<cobra.summary.model_summary.ModelSummary at 0x7f67aa70efa0>"
      ]
     },
     "execution_count": 2,
     "metadata": {},
     "output_type": "execute_result"
    }
   ],
   "source": [
    "mod3 = read_sbml_model('DSM319_fixedIDs.xml')\n",
    "mod3.summary()"
   ]
  },
  {
   "cell_type": "code",
   "execution_count": 3,
   "id": "55631e0e",
   "metadata": {},
   "outputs": [
    {
     "data": {
      "text/plain": [
       "'0.25915 ALA[c] + 0.00452 AMP[c] + 0.14372 ARG[c] + 0.14373 ASN[c] + 0.143721 ASP[c] + 56.8905 ATP[c] + 0.0312 CA[c] + 0.00025 CDP[c] + 0.00099 CMP[c] + 0.0493 CTP[c] + 0.05504 CYS[c] + 0.01443 DATP[c] + 0.00923 DCTP[c] + 0.00923 DGTP[c] + 0.01443 DTTP[c] + 0.00336 FE3[c] + 0.00036 FTHF[c] + 0.00019 GDP[c] + 0.25287 GLN[c] + 0.25287 GLU[c] + 0.396288 GLY[c] + 0.00051 GMP[c] + 0.07836 GTP[c] + 56.82 H2O[c] + 0.079349 HIS[c] + 0.26204 ILE[c] + 0.3886 K[c] + 0.33635 LEU[c] + 0.31373 LYS[c] + 0.11005 MET[c] + 0.0992 MG[c] + 0.00023 MQL8[c] + 0.0002 NADPH[c] + 0.00091 NADP[c] + 0.01567 NAD[c] + 0.17083 PHE[c] + 0.156032 PRO[c] + 0.20994 SER[c] + 0.18095 THR[c] + 0.05277 TRP[c] + 0.10761 TYR[c] + 0.05183 UTP[c] + 0.29797 VAL[c] + 0.2716 cpd15664[c] + 0.00194 cpd15670[c] + 0.07373 cpd15800[c] --> 56.82 ADP[c] + 56.82 H[c] + 56.8058 PI[c] + 0.28628 PPI[c]'"
      ]
     },
     "execution_count": 3,
     "metadata": {},
     "output_type": "execute_result"
    }
   ],
   "source": [
    "mod3.reactions.biomass.reaction"
   ]
  },
  {
   "cell_type": "code",
   "execution_count": 32,
   "id": "2575e8bb",
   "metadata": {},
   "outputs": [
    {
     "data": {
      "text/html": [
       "<h3>ASP[c]</h3><p>C4H6NO4</p><h4>Producing Reactions</h4><table border=\"1\" class=\"dataframe\">\n",
       "  <thead>\n",
       "    <tr style=\"text-align: right;\">\n",
       "      <th>Percent</th>\n",
       "      <th>Flux</th>\n",
       "      <th>Reaction</th>\n",
       "      <th>Definition</th>\n",
       "    </tr>\n",
       "  </thead>\n",
       "  <tbody>\n",
       "    <tr>\n",
       "      <td>100.00%</td>\n",
       "      <td>0.4635</td>\n",
       "      <td>bm00006</td>\n",
       "      <td>AKG[c] + ASP[c] &lt;=&gt; GLU[c] + OA[c]</td>\n",
       "    </tr>\n",
       "  </tbody>\n",
       "</table><h4>Consuming Reactions</h4><table border=\"1\" class=\"dataframe\">\n",
       "  <thead>\n",
       "    <tr style=\"text-align: right;\">\n",
       "      <th>Percent</th>\n",
       "      <th>Flux</th>\n",
       "      <th>Reaction</th>\n",
       "      <th>Definition</th>\n",
       "    </tr>\n",
       "  </thead>\n",
       "  <tbody>\n",
       "    <tr>\n",
       "      <td>7.38%</td>\n",
       "      <td>-0.03422</td>\n",
       "      <td>biomass</td>\n",
       "      <td>0.25915 ALA[c] + 0.00452 AMP[c] + 0.14372 ARG[c] + 0.14373 ASN[c] + 0.143721 ASP[c] + 56.8905 ATP[c] + 0.0312 CA[c] + 0.00025 CDP[c] + 0.00099 CMP[c] + 0.0493 CTP[c] + 0.05504 CYS[c] + 0.01443 DATP[c] + 0.00923 DCTP[c] + 0.00923 DGTP[c] + 0.01443 DTTP[c] + 0.00336 FE3[c] + 0.00036 FTHF[c] + 0.00019 GDP[c] + 0.25287 GLN[c] + 0.25287 GLU[c] + 0.396288 GLY[c] + 0.00051 GMP[c] + 0.07836 GTP[c] + 56.82 H2O[c] + 0.079349 HIS[c] + 0.26204 ILE[c] + 0.3886 K[c] + 0.33635 LEU[c] + 0.31373 LYS[c] + 0.11005 MET[c] + 0.0992 MG[c] + 0.00023 MQL8[c] + 0.0002 NADPH[c] + 0.00091 NADP[c] + 0.01567 NAD[c] + 0.17083 PHE[c] + 0.156032 PRO[c] + 0.20994 SER[c] + 0.18095 THR[c] + 0.05277 TRP[c] + 0.10761 TYR[c] + 0.05183 UTP[c] + 0.29797 VAL[c] + 0.2716 cpd15664[c] + 0.00194 cpd15670[c] + 0.07373 cpd15800[c] --&gt; 56.82 ADP[c] + 56.82 H[c] + 56.8058 PI[c] + 0.28628 PPI[c]</td>\n",
       "    </tr>\n",
       "    <tr>\n",
       "      <td>7.38%</td>\n",
       "      <td>-0.03422</td>\n",
       "      <td>bm00004</td>\n",
       "      <td>ASP[c] + ATP[c] + NH3[c] --&gt; AMP[c] + ASN[c] + H[c] + PPI[c]</td>\n",
       "    </tr>\n",
       "    <tr>\n",
       "      <td>50.96%</td>\n",
       "      <td>-0.2362</td>\n",
       "      <td>bm00024</td>\n",
       "      <td>ASP[c] + ATP[c] --&gt; ADP[c] + BASP[c]</td>\n",
       "    </tr>\n",
       "    <tr>\n",
       "      <td>7.38%</td>\n",
       "      <td>-0.03422</td>\n",
       "      <td>bm00129</td>\n",
       "      <td>ASP[c] + ATP[c] + CITR[c] --&gt; AMP[c] + ARGSUCC[c] + H[c] + PPI[c]</td>\n",
       "    </tr>\n",
       "    <tr>\n",
       "      <td>0.86%</td>\n",
       "      <td>-0.003996</td>\n",
       "      <td>bm00657</td>\n",
       "      <td>ASP[c] + O2[c] --&gt; H2O2[c] + H[c] + IMASP[c]</td>\n",
       "    </tr>\n",
       "    <tr>\n",
       "      <td>10.01%</td>\n",
       "      <td>-0.0464</td>\n",
       "      <td>bm00805</td>\n",
       "      <td>ASP[c] + ATP[c] + CAIR[c] &lt;=&gt; ADP[c] + H[c] + PI[c] + SAICAR[c]</td>\n",
       "    </tr>\n",
       "    <tr>\n",
       "      <td>9.53%</td>\n",
       "      <td>-0.04419</td>\n",
       "      <td>bm00817</td>\n",
       "      <td>ASP[c] + GTP[c] + IMP[c] --&gt; ASUC[c] + GDP[c] + 2.0 H[c] + PI[c]</td>\n",
       "    </tr>\n",
       "    <tr>\n",
       "      <td>6.48%</td>\n",
       "      <td>-0.03001</td>\n",
       "      <td>bm00871</td>\n",
       "      <td>ASP[c] + CAP[c] --&gt; CAASP[c] + H[c] + PI[c]</td>\n",
       "    </tr>\n",
       "  </tbody>\n",
       "</table>"
      ],
      "text/plain": [
       "<cobra.summary.metabolite_summary.MetaboliteSummary at 0x7fad59020490>"
      ]
     },
     "execution_count": 32,
     "metadata": {},
     "output_type": "execute_result"
    }
   ],
   "source": [
    "mod3.metabolites.get_by_id('ASP[c]').summary()"
   ]
  },
  {
   "cell_type": "code",
   "execution_count": 24,
   "id": "cf244cd1",
   "metadata": {},
   "outputs": [
    {
     "data": {
      "text/html": [
       "\n",
       "        <table>\n",
       "            <tr>\n",
       "                <td><strong>Reaction identifier</strong></td><td>bm00213</td>\n",
       "            </tr><tr>\n",
       "                <td><strong>Name</strong></td><td>anthranilate synthase component I</td>\n",
       "            </tr><tr>\n",
       "                <td><strong>Memory address</strong></td>\n",
       "                <td>0x7fad5a119dc0</td>\n",
       "            </tr><tr>\n",
       "                <td><strong>Stoichiometry</strong></td>\n",
       "                <td>\n",
       "                    <p style='text-align:right'>CHOR[c] + NH3[c] <=> AN[c] + H2O[c] + H[c] + PYR[c]</p>\n",
       "                    <p style='text-align:right'>Chorismate + Ammonia <=> Anthranilate + H2O + H+ + Pyruvate</p>\n",
       "                </td>\n",
       "            </tr><tr>\n",
       "                <td><strong>GPR</strong></td><td>BMD_RS20905</td>\n",
       "            </tr><tr>\n",
       "                <td><strong>Lower bound</strong></td><td>-1000.0</td>\n",
       "            </tr><tr>\n",
       "                <td><strong>Upper bound</strong></td><td>1000.0</td>\n",
       "            </tr>\n",
       "        </table>\n",
       "        "
      ],
      "text/plain": [
       "<Reaction bm00213 at 0x7fad5a119dc0>"
      ]
     },
     "execution_count": 24,
     "metadata": {},
     "output_type": "execute_result"
    }
   ],
   "source": [
    "mod3.reactions.bm00213"
   ]
  },
  {
   "cell_type": "code",
   "execution_count": 57,
   "id": "30b07a99",
   "metadata": {},
   "outputs": [
    {
     "data": {
      "text/html": [
       "<h3>cpd15699[c]</h3><p>C35H70NO8P</p><h4>Producing Reactions</h4><table border=\"1\" class=\"dataframe\">\n",
       "  <thead>\n",
       "    <tr style=\"text-align: right;\">\n",
       "      <th>Percent</th>\n",
       "      <th>Flux</th>\n",
       "      <th>Reaction</th>\n",
       "      <th>Definition</th>\n",
       "    </tr>\n",
       "  </thead>\n",
       "  <tbody>\n",
       "    <tr>\n",
       "      <td>100.00%</td>\n",
       "      <td>0.004342</td>\n",
       "      <td>bm00544</td>\n",
       "      <td>2.0 H[c] + cpd15693[c] &lt;=&gt; CO2[c] + cpd15699[c]</td>\n",
       "    </tr>\n",
       "  </tbody>\n",
       "</table><h4>Consuming Reactions</h4><table border=\"1\" class=\"dataframe\">\n",
       "  <thead>\n",
       "    <tr style=\"text-align: right;\">\n",
       "      <th>Percent</th>\n",
       "      <th>Flux</th>\n",
       "      <th>Reaction</th>\n",
       "      <th>Definition</th>\n",
       "    </tr>\n",
       "  </thead>\n",
       "  <tbody>\n",
       "    <tr>\n",
       "      <td>100.00%</td>\n",
       "      <td>-0.004342</td>\n",
       "      <td>bm01405</td>\n",
       "      <td>0.01816 cpd15529[c] + 0.07327 cpd15531[c] + 0.02483 cpd15533[c] + 0.005699 cpd15536[c] + 0.02308 cpd15538[c] + 0.007846 cpd15540[c] + 0.05369 cpd15695[c] + 0.1262 cpd15696[c] + 0.008684 cpd15697[c] + 0.1459 cpd15698[c] + 0.2473 cpd15699[c] + 0.0341 cpd15700[c] + 0.008709 cpd15707[c] + 0.002095 cpd15708[c] + 0.003029 cpd15709[c] + 0.006468 cpd15710[c] + 0.0152 cpd15711[c] + 0.001002 cpd15712[c] + 0.0171 cpd15713[c] + 0.02897 cpd15714[c] + 0.004053 cpd15715[c] + 0.01694 cpd15722[c] + 0.03982 cpd15723[c] + 0.002726 cpd15724[c] + 0.04589 cpd15725[c] + 0.07776 cpd15726[c] + 0.01074 cpd15727[c] + 0.01447 cpd15728[c] + 0.003517 cpd15729[c] + 0.004989 cpd15730[c] + 0.0107 cpd15731[c] + 0.02515 cpd15732[c] + 0.001682 cpd15733[c] + 0.02855 cpd15734[c] + 0.04838 cpd15735[c] + 0.006735 cpd15736[c] + 0.01119 cpd15737[c] + 0.00276 cpd15738[c] + 0.003807 cpd15739[c] + 0.008216 cpd15740[c] + 0.01931 cpd15741[c] + 0.00132 cpd15742[c] + 0.02224 cpd15743[c] + 0.03768 cpd15744[c] + 0.005208 cpd15745[c] + 0.002845 cpd15782[c] + 0.0006934 cpd15783[c] + 0.0009777 cpd15784[c] + 0.0021 cpd15785[c] + 0.004935 cpd15786[c] + 0.0003316 cpd15787[c] + 0.005621 cpd15788[c] + 0.009523 cpd15789[c] + 0.001324 cpd15790[c] + 0.0005977 cpd15791[c] + 0.0001484 cpd15792[c] + 0.0002022 cpd15793[c] + 0.0004375 cpd15794[c] + 0.001028 cpd15795[c] + 0.001192 cpd15797[c] + 0.002019 cpd15798[c] + 0.0002781 cpd15799[c] &lt;=&gt; cpd15800[c]</td>\n",
       "    </tr>\n",
       "  </tbody>\n",
       "</table>"
      ],
      "text/plain": [
       "<cobra.summary.metabolite_summary.MetaboliteSummary at 0x7f21509799d0>"
      ]
     },
     "execution_count": 57,
     "metadata": {},
     "output_type": "execute_result"
    }
   ],
   "source": [
    "mod3.metabolites.get_by_id('cpd15699[c]').summary()"
   ]
  },
  {
   "cell_type": "code",
   "execution_count": null,
   "id": "868f145c",
   "metadata": {},
   "outputs": [],
   "source": []
  },
  {
   "cell_type": "markdown",
   "id": "0a6be7bd",
   "metadata": {},
   "source": [
    "## Now with cofactors"
   ]
  },
  {
   "cell_type": "code",
   "execution_count": 2,
   "id": "c17adb7b",
   "metadata": {},
   "outputs": [
    {
     "name": "stdout",
     "output_type": "stream",
     "text": [
      "Set parameter Username\n",
      "Academic license - for non-commercial use only - expires 2023-12-18\n"
     ]
    },
    {
     "data": {
      "text/html": [
       "<h3>Objective</h3><p>1.0 biomass = 0.23811627668312507</p><h4>Uptake</h4><table border=\"1\" class=\"dataframe\">\n",
       "  <thead>\n",
       "    <tr style=\"text-align: right;\">\n",
       "      <th>Metabolite</th>\n",
       "      <th>Reaction</th>\n",
       "      <th>Flux</th>\n",
       "      <th>C-Number</th>\n",
       "      <th>C-Flux</th>\n",
       "    </tr>\n",
       "  </thead>\n",
       "  <tbody>\n",
       "    <tr>\n",
       "      <td>GLC[e]</td>\n",
       "      <td>Re_bm01273</td>\n",
       "      <td>5</td>\n",
       "      <td>6</td>\n",
       "      <td>98.19%</td>\n",
       "    </tr>\n",
       "    <tr>\n",
       "      <td>CA[e]</td>\n",
       "      <td>Re_bm01294</td>\n",
       "      <td>0.007429</td>\n",
       "      <td>0</td>\n",
       "      <td>0.00%</td>\n",
       "    </tr>\n",
       "    <tr>\n",
       "      <td>O2[e]</td>\n",
       "      <td>Re_bm01302</td>\n",
       "      <td>21.43</td>\n",
       "      <td>0</td>\n",
       "      <td>0.00%</td>\n",
       "    </tr>\n",
       "    <tr>\n",
       "      <td>NH3[e]</td>\n",
       "      <td>Re_bm01304</td>\n",
       "      <td>1.886</td>\n",
       "      <td>0</td>\n",
       "      <td>0.00%</td>\n",
       "    </tr>\n",
       "    <tr>\n",
       "      <td>K[e]</td>\n",
       "      <td>Re_bm01306</td>\n",
       "      <td>0.09253</td>\n",
       "      <td>0</td>\n",
       "      <td>0.00%</td>\n",
       "    </tr>\n",
       "    <tr>\n",
       "      <td>MG[e]</td>\n",
       "      <td>Re_bm01307</td>\n",
       "      <td>0.02362</td>\n",
       "      <td>0</td>\n",
       "      <td>0.00%</td>\n",
       "    </tr>\n",
       "    <tr>\n",
       "      <td>FE2[e]</td>\n",
       "      <td>Re_bm01308</td>\n",
       "      <td>0.0008001</td>\n",
       "      <td>0</td>\n",
       "      <td>0.00%</td>\n",
       "    </tr>\n",
       "    <tr>\n",
       "      <td>PI[e]</td>\n",
       "      <td>Re_bm01313</td>\n",
       "      <td>0.1627</td>\n",
       "      <td>0</td>\n",
       "      <td>0.00%</td>\n",
       "    </tr>\n",
       "    <tr>\n",
       "      <td>SME3P[e]</td>\n",
       "      <td>Re_bm01686</td>\n",
       "      <td>0.07901</td>\n",
       "      <td>7</td>\n",
       "      <td>1.81%</td>\n",
       "    </tr>\n",
       "  </tbody>\n",
       "</table><h4>Secretion</h4><table border=\"1\" class=\"dataframe\">\n",
       "  <thead>\n",
       "    <tr style=\"text-align: right;\">\n",
       "      <th>Metabolite</th>\n",
       "      <th>Reaction</th>\n",
       "      <th>Flux</th>\n",
       "      <th>C-Number</th>\n",
       "      <th>C-Flux</th>\n",
       "    </tr>\n",
       "  </thead>\n",
       "  <tbody>\n",
       "    <tr>\n",
       "      <td>CO2[e]</td>\n",
       "      <td>Re_bm01300</td>\n",
       "      <td>-21.92</td>\n",
       "      <td>1</td>\n",
       "      <td>100.00%</td>\n",
       "    </tr>\n",
       "    <tr>\n",
       "      <td>H2O[e]</td>\n",
       "      <td>Re_bm01301</td>\n",
       "      <td>-25.52</td>\n",
       "      <td>0</td>\n",
       "      <td>0.00%</td>\n",
       "    </tr>\n",
       "    <tr>\n",
       "      <td>H[e]</td>\n",
       "      <td>Re_bm01309</td>\n",
       "      <td>-8.509</td>\n",
       "      <td>0</td>\n",
       "      <td>0.00%</td>\n",
       "    </tr>\n",
       "  </tbody>\n",
       "</table>"
      ],
      "text/plain": [
       "<cobra.summary.model_summary.ModelSummary at 0x7f7df519e340>"
      ]
     },
     "execution_count": 2,
     "metadata": {},
     "output_type": "execute_result"
    }
   ],
   "source": [
    "mod3 = read_sbml_model('DSM319_fixedIDs.xml')\n",
    "mod3.summary()"
   ]
  },
  {
   "cell_type": "code",
   "execution_count": 9,
   "id": "4beed4dd",
   "metadata": {},
   "outputs": [
    {
     "data": {
      "text/plain": [
       "'0.25915 ALA[c] + 0.00452 AMP[c] + 0.14372 ARG[c] + 0.14373 ASN[c] + 0.143721 ASP[c] + 56.8905 ATP[c] + 0.0312 CA[c] + 0.00025 CDP[c] + 0.00099 CMP[c] + 0.0493 CTP[c] + 0.05504 CYS[c] + 0.01443 DATP[c] + 0.00923 DCTP[c] + 0.00923 DGTP[c] + 0.01443 DTTP[c] + 0.00336 FE3[c] + 0.00036 FTHF[c] + 0.00019 GDP[c] + 0.25287 GLN[c] + 0.25287 GLU[c] + 0.396288 GLY[c] + 0.00051 GMP[c] + 0.07836 GTP[c] + 56.82 H2O[c] + 0.079349 HIS[c] + 0.26204 ILE[c] + 0.3886 K[c] + 0.33635 LEU[c] + 0.31373 LYS[c] + 0.11005 MET[c] + 0.0992 MG[c] + 0.00023 MQL8[c] + 0.0002 NADPH[c] + 0.00091 NADP[c] + 0.01567 NAD[c] + 0.17083 PHE[c] + 0.156032 PRO[c] + 0.20994 SER[c] + 0.18095 THR[c] + 0.05277 TRP[c] + 0.10761 TYR[c] + 0.05183 UTP[c] + 0.29797 VAL[c] + 0.2716 cpd15664[c] + 0.00194 cpd15670[c] + 0.07373 cpd15800[c] --> 56.82 ADP[c] + 56.82 H[c] + 56.8058 PI[c] + 0.28628 PPI[c]'"
      ]
     },
     "execution_count": 9,
     "metadata": {},
     "output_type": "execute_result"
    }
   ],
   "source": [
    "mod3.reactions.biomass.reaction"
   ]
  },
  {
   "cell_type": "code",
   "execution_count": 78,
   "id": "3ee80771",
   "metadata": {},
   "outputs": [
    {
     "data": {
      "text/html": [
       "<h3>PI[c]</h3><p>HO4P</p><h4>Producing Reactions</h4><table border=\"1\" class=\"dataframe\">\n",
       "  <thead>\n",
       "    <tr style=\"text-align: right;\">\n",
       "      <th>Percent</th>\n",
       "      <th>Flux</th>\n",
       "      <th>Reaction</th>\n",
       "      <th>Definition</th>\n",
       "    </tr>\n",
       "  </thead>\n",
       "  <tbody>\n",
       "    <tr>\n",
       "      <td>0.68%</td>\n",
       "      <td>0.1627</td>\n",
       "      <td>Rt_bm01015</td>\n",
       "      <td>H[c] + PI[c] &lt;=&gt; H[e] + PI[e]</td>\n",
       "    </tr>\n",
       "    <tr>\n",
       "      <td>56.67%</td>\n",
       "      <td>13.53</td>\n",
       "      <td>biomass</td>\n",
       "      <td>0.25915 ALA[c] + 0.00452 AMP[c] + 0.14372 ARG[c] + 0.14373 ASN[c] + 0.143721 ASP[c] + 56.8905 ATP[c] + 0.0312 CA[c] + 0.00025 CDP[c] + 0.00099 CMP[c] + 0.0493 CTP[c] + 0.05504 CYS[c] + 0.01443 DATP[c] + 0.00923 DCTP[c] + 0.00923 DGTP[c] + 0.01443 DTTP[c] + 0.00336 FE3[c] + 0.00036 FTHF[c] + 0.00019 GDP[c] + 0.25287 GLN[c] + 0.25287 GLU[c] + 0.396288 GLY[c] + 0.00051 GMP[c] + 0.07836 GTP[c] + 56.82 H2O[c] + 0.079349 HIS[c] + 0.26204 ILE[c] + 0.3886 K[c] + 0.33635 LEU[c] + 0.31373 LYS[c] + 0.11005 MET[c] + 0.0992 MG[c] + 0.00023 MQL8[c] + 0.0002 NADPH[c] + 0.00091 NADP[c] + 0.01567 NAD[c] + 0.17083 PHE[c] + 0.156032 PRO[c] + 0.20994 SER[c] + 0.18095 THR[c] + 0.05277 TRP[c] + 0.10761 TYR[c] + 0.05183 UTP[c] + 0.29797 VAL[c] + 0.2716 cpd15664[c] + 0.00194 cpd15670[c] + 0.07373 cpd15800[c] --&gt; 56.82 ADP[c] + 56.82 H[c] + 56.8058 PI[c] + 0.28628 PPI[c]</td>\n",
       "    </tr>\n",
       "    <tr>\n",
       "      <td>0.27%</td>\n",
       "      <td>0.06423</td>\n",
       "      <td>bm00023</td>\n",
       "      <td>2.0 ATP[c] + HCO3[c] + NH3[c] --&gt; 2.0 ADP[c] + CAP[c] + 2.0 H[c] + PI[c]</td>\n",
       "    </tr>\n",
       "    <tr>\n",
       "      <td>0.99%</td>\n",
       "      <td>0.2362</td>\n",
       "      <td>bm00025</td>\n",
       "      <td>BASP[c] + H[c] + NADPH[c] --&gt; ASPSA[c] + NADP[c] + PI[c]</td>\n",
       "    </tr>\n",
       "    <tr>\n",
       "      <td>0.18%</td>\n",
       "      <td>0.04309</td>\n",
       "      <td>bm00029</td>\n",
       "      <td>H2O[c] + PHSER[c] --&gt; PI[c] + THR[c]</td>\n",
       "    </tr>\n",
       "    <tr>\n",
       "      <td>0.96%</td>\n",
       "      <td>0.2296</td>\n",
       "      <td>bm00033</td>\n",
       "      <td>3PSER[c] + H2O[c] --&gt; PI[c] + SER[c]</td>\n",
       "    </tr>\n",
       "    <tr>\n",
       "      <td>0.14%</td>\n",
       "      <td>0.03422</td>\n",
       "      <td>bm00124</td>\n",
       "      <td>H[c] + NADPH[c] + NAGLUP[c] --&gt; NADP[c] + NAGLUS[c] + PI[c]</td>\n",
       "    </tr>\n",
       "    <tr>\n",
       "      <td>0.14%</td>\n",
       "      <td>0.03422</td>\n",
       "      <td>bm00128</td>\n",
       "      <td>CAP[c] + ORN[c] &lt;=&gt; CITR[c] + H[c] + PI[c]</td>\n",
       "    </tr>\n",
       "    <tr>\n",
       "      <td>0.08%</td>\n",
       "      <td>0.01889</td>\n",
       "      <td>bm00167</td>\n",
       "      <td>H2O[c] + HISOLP[c] --&gt; HISOL[c] + PI[c]</td>\n",
       "    </tr>\n",
       "    <tr>\n",
       "      <td>0.33%</td>\n",
       "      <td>0.07901</td>\n",
       "      <td>bm00177</td>\n",
       "      <td>PEP[c] + SME3P[c] &lt;=&gt; 3PSME[c] + PI[c]</td>\n",
       "    </tr>\n",
       "    <tr>\n",
       "      <td>0.33%</td>\n",
       "      <td>0.07901</td>\n",
       "      <td>bm00178</td>\n",
       "      <td>3PSME[c] --&gt; CHOR[c] + PI[c]</td>\n",
       "    </tr>\n",
       "    <tr>\n",
       "      <td>0.12%</td>\n",
       "      <td>0.0293</td>\n",
       "      <td>bm00366</td>\n",
       "      <td>PEP[c] + UDPNAG[c] --&gt; PI[c] + UACCG[c]</td>\n",
       "    </tr>\n",
       "    <tr>\n",
       "      <td>30.78%</td>\n",
       "      <td>7.348</td>\n",
       "      <td>bm00375</td>\n",
       "      <td>ACCOA[c] + PI[c] &lt;=&gt; ACTP[c] + COA[c]</td>\n",
       "    </tr>\n",
       "    <tr>\n",
       "      <td>4.16%</td>\n",
       "      <td>0.9929</td>\n",
       "      <td>bm00453</td>\n",
       "      <td>H2O[c] + PPI[c] --&gt; H[c] + 2.0 PI[c]</td>\n",
       "    </tr>\n",
       "    <tr>\n",
       "      <td>0.12%</td>\n",
       "      <td>0.0293</td>\n",
       "      <td>bm00466</td>\n",
       "      <td>ALA[c] + ATP[c] + UDPNAM[c] --&gt; ADP[c] + H[c] + PI[c] + UDPNAMA[c]</td>\n",
       "    </tr>\n",
       "    <tr>\n",
       "      <td>0.12%</td>\n",
       "      <td>0.0293</td>\n",
       "      <td>bm00467</td>\n",
       "      <td>ATP[c] + DGLU[c] + UDPNAMA[c] --&gt; ADP[c] + H[c] + PI[c] + UDPNAMAG[c]</td>\n",
       "    </tr>\n",
       "    <tr>\n",
       "      <td>0.12%</td>\n",
       "      <td>0.0293</td>\n",
       "      <td>bm00468</td>\n",
       "      <td>ATP[c] + MDAPIM[c] + UDPNAMAG[c] --&gt; ADP[c] + H[c] + PI[c] + UGMD[c]</td>\n",
       "    </tr>\n",
       "    <tr>\n",
       "      <td>0.12%</td>\n",
       "      <td>0.0293</td>\n",
       "      <td>bm00469</td>\n",
       "      <td>ATP[c] + 2.0 DALA[c] --&gt; ADP[c] + ALAALA[c] + H[c] + PI[c]</td>\n",
       "    </tr>\n",
       "    <tr>\n",
       "      <td>0.12%</td>\n",
       "      <td>0.0293</td>\n",
       "      <td>bm00470</td>\n",
       "      <td>ALAALA[c] + ATP[c] + UGMD[c] --&gt; ADP[c] + H[c] + PI[c] + UGMDA[c]</td>\n",
       "    </tr>\n",
       "    <tr>\n",
       "      <td>0.90%</td>\n",
       "      <td>0.2147</td>\n",
       "      <td>bm00471</td>\n",
       "      <td>ACCOA[c] + ATP[c] + HCO3[c] --&gt; ADP[c] + H[c] + MALCOA[c] + PI[c]</td>\n",
       "    </tr>\n",
       "    <tr>\n",
       "      <td>0.00%</td>\n",
       "      <td>0.0003496</td>\n",
       "      <td>bm00573</td>\n",
       "      <td>H2O[c] + cpd15716[c] --&gt; H[c] + PI[c] + cpd15722[c]</td>\n",
       "    </tr>\n",
       "    <tr>\n",
       "      <td>0.00%</td>\n",
       "      <td>0.0008218</td>\n",
       "      <td>bm00574</td>\n",
       "      <td>H2O[c] + cpd15717[c] --&gt; H[c] + PI[c] + cpd15723[c]</td>\n",
       "    </tr>\n",
       "    <tr>\n",
       "      <td>0.00%</td>\n",
       "      <td>5.368E-05</td>\n",
       "      <td>bm00575</td>\n",
       "      <td>H2O[c] + cpd15718[c] --&gt; H[c] + PI[c] + cpd15724[c]</td>\n",
       "    </tr>\n",
       "    <tr>\n",
       "      <td>0.00%</td>\n",
       "      <td>0.0009462</td>\n",
       "      <td>bm00576</td>\n",
       "      <td>H2O[c] + cpd15719[c] --&gt; H[c] + PI[c] + cpd15725[c]</td>\n",
       "    </tr>\n",
       "    <tr>\n",
       "      <td>0.01%</td>\n",
       "      <td>0.001603</td>\n",
       "      <td>bm00577</td>\n",
       "      <td>H2O[c] + cpd15720[c] --&gt; H[c] + PI[c] + cpd15726[c]</td>\n",
       "    </tr>\n",
       "    <tr>\n",
       "      <td>0.00%</td>\n",
       "      <td>0.0002216</td>\n",
       "      <td>bm00578</td>\n",
       "      <td>H2O[c] + cpd15721[c] --&gt; H[c] + PI[c] + cpd15727[c]</td>\n",
       "    </tr>\n",
       "    <tr>\n",
       "      <td>0.00%</td>\n",
       "      <td>0.0001174</td>\n",
       "      <td>bm00614</td>\n",
       "      <td>H2O[c] + cpd15543[c] --&gt; H[c] + PI[c] + cpd15536[c]</td>\n",
       "    </tr>\n",
       "    <tr>\n",
       "      <td>0.00%</td>\n",
       "      <td>0.0004761</td>\n",
       "      <td>bm00615</td>\n",
       "      <td>H2O[c] + cpd15545[c] --&gt; H[c] + PI[c] + cpd15538[c]</td>\n",
       "    </tr>\n",
       "    <tr>\n",
       "      <td>0.00%</td>\n",
       "      <td>0.000162</td>\n",
       "      <td>bm00616</td>\n",
       "      <td>H2O[c] + cpd15547[c] --&gt; H[c] + PI[c] + cpd15540[c]</td>\n",
       "    </tr>\n",
       "    <tr>\n",
       "      <td>0.02%</td>\n",
       "      <td>0.003996</td>\n",
       "      <td>bm00658</td>\n",
       "      <td>IMASP[c] + T3P2[c] --&gt; 2.0 H2O[c] + PI[c] + PYR2CAR[c]</td>\n",
       "    </tr>\n",
       "    <tr>\n",
       "      <td>0.00%</td>\n",
       "      <td>8.572E-05</td>\n",
       "      <td>bm00710</td>\n",
       "      <td>ATP[c] + DHPT[c] + GLU[c] --&gt; ADP[c] + DHF[c] + H[c] + PI[c]</td>\n",
       "    </tr>\n",
       "    <tr>\n",
       "      <td>0.19%</td>\n",
       "      <td>0.0464</td>\n",
       "      <td>bm00799</td>\n",
       "      <td>ATP[c] + GLY[c] + PRAM[c] &lt;=&gt; ADP[c] + GAR[c] + H[c] + PI[c]</td>\n",
       "    </tr>\n",
       "    <tr>\n",
       "      <td>0.19%</td>\n",
       "      <td>0.0464</td>\n",
       "      <td>bm00801</td>\n",
       "      <td>ATP[c] + FGAR[c] + GLN[c] + H2O[c] --&gt; ADP[c] + FGAM[c] + GLU[c] + H[c] + PI[c]</td>\n",
       "    </tr>\n",
       "    <tr>\n",
       "      <td>0.19%</td>\n",
       "      <td>0.0464</td>\n",
       "      <td>bm00802</td>\n",
       "      <td>ATP[c] + FGAM[c] --&gt; ADP[c] + AIR[c] + H[c] + PI[c]</td>\n",
       "    </tr>\n",
       "    <tr>\n",
       "      <td>0.19%</td>\n",
       "      <td>0.0464</td>\n",
       "      <td>bm00804</td>\n",
       "      <td>AIR[c] + ATP[c] + HCO3[c] --&gt; ADP[c] + C15667[c] + H[c] + PI[c]</td>\n",
       "    </tr>\n",
       "    <tr>\n",
       "      <td>0.19%</td>\n",
       "      <td>0.0464</td>\n",
       "      <td>bm00805</td>\n",
       "      <td>ASP[c] + ATP[c] + CAIR[c] &lt;=&gt; ADP[c] + H[c] + PI[c] + SAICAR[c]</td>\n",
       "    </tr>\n",
       "    <tr>\n",
       "      <td>0.19%</td>\n",
       "      <td>0.04419</td>\n",
       "      <td>bm00817</td>\n",
       "      <td>ASP[c] + GTP[c] + IMP[c] --&gt; ASUC[c] + GDP[c] + 2.0 H[c] + PI[c]</td>\n",
       "    </tr>\n",
       "    <tr>\n",
       "      <td>0.42%</td>\n",
       "      <td>0.1005</td>\n",
       "      <td>bm00824</td>\n",
       "      <td>ADN[c] + PI[c] &lt;=&gt; AD[c] + R1P[c]</td>\n",
       "    </tr>\n",
       "    <tr>\n",
       "      <td>0.71%</td>\n",
       "      <td>0.1705</td>\n",
       "      <td>bm00828</td>\n",
       "      <td>DA[c] + PI[c] &lt;=&gt; AD[c] + DR1P[c]</td>\n",
       "    </tr>\n",
       "    <tr>\n",
       "      <td>0.13%</td>\n",
       "      <td>0.03001</td>\n",
       "      <td>bm00871</td>\n",
       "      <td>ASP[c] + CAP[c] --&gt; CAASP[c] + H[c] + PI[c]</td>\n",
       "    </tr>\n",
       "    <tr>\n",
       "      <td>0.00%</td>\n",
       "      <td>5.477E-05</td>\n",
       "      <td>bm00886</td>\n",
       "      <td>CYTS[c] + R1P[c] --&gt; CYTD[c] + PI[c]</td>\n",
       "    </tr>\n",
       "    <tr>\n",
       "      <td>0.06%</td>\n",
       "      <td>0.01418</td>\n",
       "      <td>bm00890</td>\n",
       "      <td>ATP[c] + NH3[c] + UTP[c] --&gt; ADP[c] + CTP[c] + 2.0 H[c] + PI[c]</td>\n",
       "    </tr>\n",
       "    <tr>\n",
       "      <td>0.00%</td>\n",
       "      <td>5.477E-05</td>\n",
       "      <td>bm00914</td>\n",
       "      <td>DTMP[c] + H2O[c] --&gt; DT[c] + PI[c]</td>\n",
       "    </tr>\n",
       "    <tr>\n",
       "      <td>0.00%</td>\n",
       "      <td>0.0002572</td>\n",
       "      <td>bm01146</td>\n",
       "      <td>AHDT[c] + 3.0 H2O[c] --&gt; DHP[c] + 3.0 PI[c]</td>\n",
       "    </tr>\n",
       "    <tr>\n",
       "      <td>0.12%</td>\n",
       "      <td>0.0293</td>\n",
       "      <td>bm01557</td>\n",
       "      <td>H2O[c] + UDCPDP[c] --&gt; C00348[c] + H[c] + PI[c]</td>\n",
       "    </tr>\n",
       "  </tbody>\n",
       "</table><h4>Consuming Reactions</h4><table border=\"1\" class=\"dataframe\">\n",
       "  <thead>\n",
       "    <tr style=\"text-align: right;\">\n",
       "      <th>Percent</th>\n",
       "      <th>Flux</th>\n",
       "      <th>Reaction</th>\n",
       "      <th>Definition</th>\n",
       "    </tr>\n",
       "  </thead>\n",
       "  <tbody>\n",
       "    <tr>\n",
       "      <td>39.16%</td>\n",
       "      <td>-9.347</td>\n",
       "      <td>bm00272</td>\n",
       "      <td>NAD[c] + PI[c] + T3P1[c] &lt;=&gt; 13PDG[c] + H[c] + NADH[c]</td>\n",
       "    </tr>\n",
       "    <tr>\n",
       "      <td>29.39%</td>\n",
       "      <td>-7.015</td>\n",
       "      <td>bm00292</td>\n",
       "      <td>ATP[c] + COA[c] + SUCC[c] &lt;=&gt; ADP[c] + PI[c] + SUCCOA[c]</td>\n",
       "    </tr>\n",
       "    <tr>\n",
       "      <td>29.98%</td>\n",
       "      <td>-7.155</td>\n",
       "      <td>bm00374</td>\n",
       "      <td>H[c] + O2[c] + PI[c] + PYR[c] &lt;=&gt; ACTP[c] + CO2[c] + H2O2[c]</td>\n",
       "    </tr>\n",
       "    <tr>\n",
       "      <td>0.81%</td>\n",
       "      <td>-0.1931</td>\n",
       "      <td>bm00377</td>\n",
       "      <td>ACTP[c] + H2O[c] &lt;=&gt; AC[c] + H[c] + PI[c]</td>\n",
       "    </tr>\n",
       "    <tr>\n",
       "      <td>0.67%</td>\n",
       "      <td>-0.1592</td>\n",
       "      <td>bm00842</td>\n",
       "      <td>DG[c] + PI[c] &lt;=&gt; DR1P[c] + GN[c]</td>\n",
       "    </tr>\n",
       "    <tr>\n",
       "      <td>0.00%</td>\n",
       "      <td>-5.477E-05</td>\n",
       "      <td>bm00908</td>\n",
       "      <td>DR1P[c] + THY[c] &lt;=&gt; DT[c] + PI[c]</td>\n",
       "    </tr>\n",
       "  </tbody>\n",
       "</table>"
      ],
      "text/plain": [
       "<cobra.summary.metabolite_summary.MetaboliteSummary at 0x7f26b2421820>"
      ]
     },
     "execution_count": 78,
     "metadata": {},
     "output_type": "execute_result"
    }
   ],
   "source": [
    "mod3.metabolites.get_by_id('PI[c]').summary()"
   ]
  },
  {
   "cell_type": "code",
   "execution_count": 76,
   "id": "2f7044b4",
   "metadata": {},
   "outputs": [
    {
     "data": {
      "text/html": [
       "\n",
       "        <table>\n",
       "            <tr>\n",
       "                <td><strong>Reaction identifier</strong></td><td>bm00451</td>\n",
       "            </tr><tr>\n",
       "                <td><strong>Name</strong></td><td>cytochrome oxidase bd (menaquinol-8: 2 protons)</td>\n",
       "            </tr><tr>\n",
       "                <td><strong>Memory address</strong></td>\n",
       "                <td>0x7f26b3acd760</td>\n",
       "            </tr><tr>\n",
       "                <td><strong>Stoichiometry</strong></td>\n",
       "                <td>\n",
       "                    <p style='text-align:right'>2.0 H[c] + MQL8[c] + 0.5 O2[c] --> H2O[c] + 2.0 H[e] + MQN8[c]</p>\n",
       "                    <p style='text-align:right'>2.0 H+ + Menaquinol8 + 0.5 O2 --> H2O + 2.0 H+_e + Menaquinone8</p>\n",
       "                </td>\n",
       "            </tr><tr>\n",
       "                <td><strong>GPR</strong></td><td>(BMD_RS25365 or BMD_RS23610) and (BMD_RS23615 or BMD_RS25360)</td>\n",
       "            </tr><tr>\n",
       "                <td><strong>Lower bound</strong></td><td>0.0</td>\n",
       "            </tr><tr>\n",
       "                <td><strong>Upper bound</strong></td><td>1000.0</td>\n",
       "            </tr>\n",
       "        </table>\n",
       "        "
      ],
      "text/plain": [
       "<Reaction bm00451 at 0x7f26b3acd760>"
      ]
     },
     "execution_count": 76,
     "metadata": {},
     "output_type": "execute_result"
    }
   ],
   "source": [
    "mod3.reactions.bm00451"
   ]
  },
  {
   "cell_type": "markdown",
   "id": "a6064e76",
   "metadata": {},
   "source": [
    "## Now with amino acids"
   ]
  },
  {
   "cell_type": "code",
   "execution_count": 7,
   "id": "72892638",
   "metadata": {},
   "outputs": [
    {
     "data": {
      "text/plain": [
       "'0.25915 ALA[c] + 0.00452 AMP[c] + 0.14372 ARG[c] + 0.14373 ASN[c] + 0.143721 ASP[c] + 56.8905 ATP[c] + 0.0312 CA[c] + 0.00025 CDP[c] + 0.00099 CMP[c] + 0.0493 CTP[c] + 0.05504 CYS[c] + 0.01443 DATP[c] + 0.00923 DCTP[c] + 0.00923 DGTP[c] + 0.01443 DTTP[c] + 0.00336 FE3[c] + 0.00036 FTHF[c] + 0.00019 GDP[c] + 0.25287 GLN[c] + 0.25287 GLU[c] + 0.396288 GLY[c] + 0.00051 GMP[c] + 0.07836 GTP[c] + 56.82 H2O[c] + 0.079349 HIS[c] + 0.26204 ILE[c] + 0.3886 K[c] + 0.33635 LEU[c] + 0.31373 LYS[c] + 0.11005 MET[c] + 0.0992 MG[c] + 0.00023 MQL8[c] + 0.0002 NADPH[c] + 0.00091 NADP[c] + 0.01567 NAD[c] + 0.17083 PHE[c] + 0.156032 PRO[c] + 0.20994 SER[c] + 0.18095 THR[c] + 0.05277 TRP[c] + 0.10761 TYR[c] + 0.05183 UTP[c] + 0.29797 VAL[c] + 0.2716 cpd15664[c] + 0.00194 cpd15670[c] + 0.07373 cpd15800[c] --> 56.82 ADP[c] + 56.82 H[c] + 56.8058 PI[c] + 0.28628 PPI[c]'"
      ]
     },
     "execution_count": 7,
     "metadata": {},
     "output_type": "execute_result"
    }
   ],
   "source": [
    "mod3.reactions.biomass.reaction"
   ]
  },
  {
   "cell_type": "code",
   "execution_count": 8,
   "id": "378cbde3",
   "metadata": {},
   "outputs": [
    {
     "data": {
      "text/html": [
       "<h3>ACLAC[c]</h3><p>C5H7O4</p><h4>Producing Reactions</h4><table border=\"1\" class=\"dataframe\">\n",
       "  <thead>\n",
       "    <tr style=\"text-align: right;\">\n",
       "      <th>Percent</th>\n",
       "      <th>Flux</th>\n",
       "      <th>Reaction</th>\n",
       "      <th>Definition</th>\n",
       "    </tr>\n",
       "  </thead>\n",
       "  <tbody>\n",
       "    <tr>\n",
       "      <td>100.00%</td>\n",
       "      <td>0.7583</td>\n",
       "      <td>bm00077</td>\n",
       "      <td>H[c] + 2.0 PYR[c] --&gt; ACLAC[c] + CO2[c]</td>\n",
       "    </tr>\n",
       "  </tbody>\n",
       "</table><h4>Consuming Reactions</h4><table border=\"1\" class=\"dataframe\">\n",
       "  <thead>\n",
       "    <tr style=\"text-align: right;\">\n",
       "      <th>Percent</th>\n",
       "      <th>Flux</th>\n",
       "      <th>Reaction</th>\n",
       "      <th>Definition</th>\n",
       "    </tr>\n",
       "  </thead>\n",
       "  <tbody>\n",
       "    <tr>\n",
       "      <td>100.00%</td>\n",
       "      <td>-0.7583</td>\n",
       "      <td>bm00669</td>\n",
       "      <td>ACLAC[c] + H[c] + NADPH[c] &lt;=&gt; DHMVA[c] + NADP[c]</td>\n",
       "    </tr>\n",
       "  </tbody>\n",
       "</table>"
      ],
      "text/plain": [
       "<cobra.summary.metabolite_summary.MetaboliteSummary at 0x7ff9194a69d0>"
      ]
     },
     "execution_count": 8,
     "metadata": {},
     "output_type": "execute_result"
    }
   ],
   "source": [
    "mod3.metabolites.get_by_id('ACLAC[c]').summary()"
   ]
  },
  {
   "cell_type": "code",
   "execution_count": 9,
   "id": "31cf3849",
   "metadata": {},
   "outputs": [
    {
     "data": {
      "text/html": [
       "\n",
       "        <table>\n",
       "            <tr>\n",
       "                <td><strong>Reaction identifier</strong></td><td>bm00180</td>\n",
       "            </tr><tr>\n",
       "                <td><strong>Name</strong></td><td>anthranilate phosphoribosyltransferase</td>\n",
       "            </tr><tr>\n",
       "                <td><strong>Memory address</strong></td>\n",
       "                <td>0x7ff8d0f52f40</td>\n",
       "            </tr><tr>\n",
       "                <td><strong>Stoichiometry</strong></td>\n",
       "                <td>\n",
       "                    <p style='text-align:right'>AN[c] + PRPP[c] --> NPRAN[c] + PPI[c]</p>\n",
       "                    <p style='text-align:right'>Anthranilate + 5-Phospho-alpha-D-ribose1-diphosphate --> N-(5-Phospho-D-ribosyl)anthranilate + Diphosphate</p>\n",
       "                </td>\n",
       "            </tr><tr>\n",
       "                <td><strong>GPR</strong></td><td>BMD_RS20900 or BMD_RS14590</td>\n",
       "            </tr><tr>\n",
       "                <td><strong>Lower bound</strong></td><td>0.0</td>\n",
       "            </tr><tr>\n",
       "                <td><strong>Upper bound</strong></td><td>1000.0</td>\n",
       "            </tr>\n",
       "        </table>\n",
       "        "
      ],
      "text/plain": [
       "<Reaction bm00180 at 0x7ff8d0f52f40>"
      ]
     },
     "execution_count": 9,
     "metadata": {},
     "output_type": "execute_result"
    }
   ],
   "source": [
    "mod3.reactions.bm00180"
   ]
  },
  {
   "cell_type": "markdown",
   "id": "94df8841",
   "metadata": {},
   "source": [
    "## Back to lipid metabolism"
   ]
  },
  {
   "cell_type": "code",
   "execution_count": 2,
   "id": "b6bf6742",
   "metadata": {},
   "outputs": [
    {
     "name": "stdout",
     "output_type": "stream",
     "text": [
      "Set parameter Username\n",
      "Academic license - for non-commercial use only - expires 2023-12-18\n"
     ]
    },
    {
     "data": {
      "text/html": [
       "<h3>Objective</h3><p>1.0 biomass = 0.23811627668312507</p><h4>Uptake</h4><table border=\"1\" class=\"dataframe\">\n",
       "  <thead>\n",
       "    <tr style=\"text-align: right;\">\n",
       "      <th>Metabolite</th>\n",
       "      <th>Reaction</th>\n",
       "      <th>Flux</th>\n",
       "      <th>C-Number</th>\n",
       "      <th>C-Flux</th>\n",
       "    </tr>\n",
       "  </thead>\n",
       "  <tbody>\n",
       "    <tr>\n",
       "      <td>GLC[e]</td>\n",
       "      <td>Re_bm01273</td>\n",
       "      <td>5</td>\n",
       "      <td>6</td>\n",
       "      <td>98.19%</td>\n",
       "    </tr>\n",
       "    <tr>\n",
       "      <td>CA[e]</td>\n",
       "      <td>Re_bm01294</td>\n",
       "      <td>0.007429</td>\n",
       "      <td>0</td>\n",
       "      <td>0.00%</td>\n",
       "    </tr>\n",
       "    <tr>\n",
       "      <td>O2[e]</td>\n",
       "      <td>Re_bm01302</td>\n",
       "      <td>21.43</td>\n",
       "      <td>0</td>\n",
       "      <td>0.00%</td>\n",
       "    </tr>\n",
       "    <tr>\n",
       "      <td>NH3[e]</td>\n",
       "      <td>Re_bm01304</td>\n",
       "      <td>1.886</td>\n",
       "      <td>0</td>\n",
       "      <td>0.00%</td>\n",
       "    </tr>\n",
       "    <tr>\n",
       "      <td>K[e]</td>\n",
       "      <td>Re_bm01306</td>\n",
       "      <td>0.09253</td>\n",
       "      <td>0</td>\n",
       "      <td>0.00%</td>\n",
       "    </tr>\n",
       "    <tr>\n",
       "      <td>MG[e]</td>\n",
       "      <td>Re_bm01307</td>\n",
       "      <td>0.02362</td>\n",
       "      <td>0</td>\n",
       "      <td>0.00%</td>\n",
       "    </tr>\n",
       "    <tr>\n",
       "      <td>FE2[e]</td>\n",
       "      <td>Re_bm01308</td>\n",
       "      <td>0.0008001</td>\n",
       "      <td>0</td>\n",
       "      <td>0.00%</td>\n",
       "    </tr>\n",
       "    <tr>\n",
       "      <td>PI[e]</td>\n",
       "      <td>Re_bm01313</td>\n",
       "      <td>0.1627</td>\n",
       "      <td>0</td>\n",
       "      <td>0.00%</td>\n",
       "    </tr>\n",
       "    <tr>\n",
       "      <td>SME3P[e]</td>\n",
       "      <td>Re_bm01686</td>\n",
       "      <td>0.07901</td>\n",
       "      <td>7</td>\n",
       "      <td>1.81%</td>\n",
       "    </tr>\n",
       "  </tbody>\n",
       "</table><h4>Secretion</h4><table border=\"1\" class=\"dataframe\">\n",
       "  <thead>\n",
       "    <tr style=\"text-align: right;\">\n",
       "      <th>Metabolite</th>\n",
       "      <th>Reaction</th>\n",
       "      <th>Flux</th>\n",
       "      <th>C-Number</th>\n",
       "      <th>C-Flux</th>\n",
       "    </tr>\n",
       "  </thead>\n",
       "  <tbody>\n",
       "    <tr>\n",
       "      <td>CO2[e]</td>\n",
       "      <td>Re_bm01300</td>\n",
       "      <td>-21.92</td>\n",
       "      <td>1</td>\n",
       "      <td>100.00%</td>\n",
       "    </tr>\n",
       "    <tr>\n",
       "      <td>H2O[e]</td>\n",
       "      <td>Re_bm01301</td>\n",
       "      <td>-25.52</td>\n",
       "      <td>0</td>\n",
       "      <td>0.00%</td>\n",
       "    </tr>\n",
       "    <tr>\n",
       "      <td>H[e]</td>\n",
       "      <td>Re_bm01309</td>\n",
       "      <td>-8.509</td>\n",
       "      <td>0</td>\n",
       "      <td>0.00%</td>\n",
       "    </tr>\n",
       "  </tbody>\n",
       "</table>"
      ],
      "text/plain": [
       "<cobra.summary.model_summary.ModelSummary at 0x7f5ad9c20fd0>"
      ]
     },
     "execution_count": 2,
     "metadata": {},
     "output_type": "execute_result"
    }
   ],
   "source": [
    "mod3 = read_sbml_model('DSM319_fixedIDs.xml')\n",
    "mod3.summary()"
   ]
  },
  {
   "cell_type": "code",
   "execution_count": 3,
   "id": "19f30582",
   "metadata": {
    "scrolled": true
   },
   "outputs": [
    {
     "data": {
      "text/plain": [
       "'0.25915 ALA[c] + 0.00452 AMP[c] + 0.14372 ARG[c] + 0.14373 ASN[c] + 0.143721 ASP[c] + 56.8905 ATP[c] + 0.0312 CA[c] + 0.00025 CDP[c] + 0.00099 CMP[c] + 0.0493 CTP[c] + 0.05504 CYS[c] + 0.01443 DATP[c] + 0.00923 DCTP[c] + 0.00923 DGTP[c] + 0.01443 DTTP[c] + 0.00336 FE3[c] + 0.00036 FTHF[c] + 0.00019 GDP[c] + 0.25287 GLN[c] + 0.25287 GLU[c] + 0.396288 GLY[c] + 0.00051 GMP[c] + 0.07836 GTP[c] + 56.82 H2O[c] + 0.079349 HIS[c] + 0.26204 ILE[c] + 0.3886 K[c] + 0.33635 LEU[c] + 0.31373 LYS[c] + 0.11005 MET[c] + 0.0992 MG[c] + 0.00023 MQL8[c] + 0.0002 NADPH[c] + 0.00091 NADP[c] + 0.01567 NAD[c] + 0.17083 PHE[c] + 0.156032 PRO[c] + 0.20994 SER[c] + 0.18095 THR[c] + 0.05277 TRP[c] + 0.10761 TYR[c] + 0.05183 UTP[c] + 0.29797 VAL[c] + 0.2716 cpd15664[c] + 0.00194 cpd15670[c] + 0.07373 cpd15800[c] --> 56.82 ADP[c] + 56.82 H[c] + 56.8058 PI[c] + 0.28628 PPI[c]'"
      ]
     },
     "execution_count": 3,
     "metadata": {},
     "output_type": "execute_result"
    }
   ],
   "source": [
    "mod3.reactions.biomass.reaction"
   ]
  },
  {
   "cell_type": "code",
   "execution_count": 12,
   "id": "525f7e58",
   "metadata": {},
   "outputs": [
    {
     "data": {
      "text/html": [
       "<h3>O2[c]</h3><p>O2</p><h4>Producing Reactions</h4><table border=\"1\" class=\"dataframe\">\n",
       "  <thead>\n",
       "    <tr style=\"text-align: right;\">\n",
       "      <th>Percent</th>\n",
       "      <th>Flux</th>\n",
       "      <th>Reaction</th>\n",
       "      <th>Definition</th>\n",
       "    </tr>\n",
       "  </thead>\n",
       "  <tbody>\n",
       "    <tr>\n",
       "      <td>100.00%</td>\n",
       "      <td>21.43</td>\n",
       "      <td>Rt_bm00996</td>\n",
       "      <td>O2[e] &lt;=&gt; O2[c]</td>\n",
       "    </tr>\n",
       "  </tbody>\n",
       "</table><h4>Consuming Reactions</h4><table border=\"1\" class=\"dataframe\">\n",
       "  <thead>\n",
       "    <tr style=\"text-align: right;\">\n",
       "      <th>Percent</th>\n",
       "      <th>Flux</th>\n",
       "      <th>Reaction</th>\n",
       "      <th>Definition</th>\n",
       "    </tr>\n",
       "  </thead>\n",
       "  <tbody>\n",
       "    <tr>\n",
       "      <td>1.36%</td>\n",
       "      <td>-0.292</td>\n",
       "      <td>bm00103</td>\n",
       "      <td>2.0 IBCOA[c] + O2[c] --&gt; 2.0 H2O[c] + 2.0 MEENCO[c]</td>\n",
       "    </tr>\n",
       "    <tr>\n",
       "      <td>33.39%</td>\n",
       "      <td>-7.155</td>\n",
       "      <td>bm00374</td>\n",
       "      <td>H[c] + O2[c] + PI[c] + PYR[c] &lt;=&gt; ACTP[c] + CO2[c] + H2O2[c]</td>\n",
       "    </tr>\n",
       "    <tr>\n",
       "      <td>48.79%</td>\n",
       "      <td>-10.46</td>\n",
       "      <td>bm00382</td>\n",
       "      <td>GLYA[c] + O2[c] --&gt; GLX[c] + H2O2[c]</td>\n",
       "    </tr>\n",
       "    <tr>\n",
       "      <td>10.20%</td>\n",
       "      <td>-2.186</td>\n",
       "      <td>bm00450</td>\n",
       "      <td>4.0 H[c] + MQL8[c] + 0.5 O2[c] --&gt; H2O[c] + 4.0 H[e] + MQN8[c]</td>\n",
       "    </tr>\n",
       "    <tr>\n",
       "      <td>6.24%</td>\n",
       "      <td>-1.337</td>\n",
       "      <td>bm00451</td>\n",
       "      <td>2.0 H[c] + MQL8[c] + 0.5 O2[c] --&gt; H2O[c] + 2.0 H[e] + MQN8[c]</td>\n",
       "    </tr>\n",
       "    <tr>\n",
       "      <td>0.02%</td>\n",
       "      <td>-0.003996</td>\n",
       "      <td>bm00657</td>\n",
       "      <td>ASP[c] + O2[c] --&gt; H2O2[c] + H[c] + IMASP[c]</td>\n",
       "    </tr>\n",
       "    <tr>\n",
       "      <td>0.00%</td>\n",
       "      <td>-0.0002</td>\n",
       "      <td>bm00736</td>\n",
       "      <td>4.0 FE2[c] + 4.0 H[c] + O2[c] --&gt; 4.0 FE3[c] + 2.0 H2O[c]</td>\n",
       "    </tr>\n",
       "  </tbody>\n",
       "</table>"
      ],
      "text/plain": [
       "<cobra.summary.metabolite_summary.MetaboliteSummary at 0x7fa784f10b80>"
      ]
     },
     "execution_count": 12,
     "metadata": {},
     "output_type": "execute_result"
    }
   ],
   "source": [
    "mod3.metabolites.get_by_id('O2[c]').summary()"
   ]
  },
  {
   "cell_type": "code",
   "execution_count": 5,
   "id": "449b9bff",
   "metadata": {},
   "outputs": [
    {
     "data": {
      "text/html": [
       "\n",
       "        <table>\n",
       "            <tr>\n",
       "                <td><strong>Reaction identifier</strong></td><td>Rt_bm01009</td>\n",
       "            </tr><tr>\n",
       "                <td><strong>Name</strong></td><td>Potassium uptake</td>\n",
       "            </tr><tr>\n",
       "                <td><strong>Memory address</strong></td>\n",
       "                <td>0x7f9bc986dee0</td>\n",
       "            </tr><tr>\n",
       "                <td><strong>Stoichiometry</strong></td>\n",
       "                <td>\n",
       "                    <p style='text-align:right'>K[e] <=> K[c]</p>\n",
       "                    <p style='text-align:right'>Potassium_e <=> Potassium</p>\n",
       "                </td>\n",
       "            </tr><tr>\n",
       "                <td><strong>GPR</strong></td><td>BMD_RS23890 or BMD_RS02060</td>\n",
       "            </tr><tr>\n",
       "                <td><strong>Lower bound</strong></td><td>-1000.0</td>\n",
       "            </tr><tr>\n",
       "                <td><strong>Upper bound</strong></td><td>1000.0</td>\n",
       "            </tr>\n",
       "        </table>\n",
       "        "
      ],
      "text/plain": [
       "<Reaction Rt_bm01009 at 0x7f9bc986dee0>"
      ]
     },
     "execution_count": 5,
     "metadata": {},
     "output_type": "execute_result"
    }
   ],
   "source": [
    "mod3.reactions.get_by_id('Rt_bm01009')"
   ]
  },
  {
   "cell_type": "code",
   "execution_count": 2,
   "id": "e629b2e0",
   "metadata": {},
   "outputs": [
    {
     "ename": "NameError",
     "evalue": "name 'mod3' is not defined",
     "output_type": "error",
     "traceback": [
      "\u001b[0;31m---------------------------------------------------------------------------\u001b[0m",
      "\u001b[0;31mNameError\u001b[0m                                 Traceback (most recent call last)",
      "\u001b[0;32m/tmp/ipykernel_5218/2665762578.py\u001b[0m in \u001b[0;36m<module>\u001b[0;34m\u001b[0m\n\u001b[0;32m----> 1\u001b[0;31m \u001b[0mmod3\u001b[0m\u001b[0;34m.\u001b[0m\u001b[0mmetabolites\u001b[0m\u001b[0;34m[\u001b[0m\u001b[0;36m1336\u001b[0m\u001b[0;34m]\u001b[0m\u001b[0;34m.\u001b[0m\u001b[0msummary\u001b[0m\u001b[0;34m(\u001b[0m\u001b[0;34m)\u001b[0m\u001b[0;34m\u001b[0m\u001b[0;34m\u001b[0m\u001b[0m\n\u001b[0m",
      "\u001b[0;31mNameError\u001b[0m: name 'mod3' is not defined"
     ]
    }
   ],
   "source": [
    "mod3.metabolites[1336].summary()"
   ]
  },
  {
   "cell_type": "markdown",
   "id": "025bad44",
   "metadata": {},
   "source": [
    "### _B. subtilis_ model"
   ]
  },
  {
   "cell_type": "code",
   "execution_count": 2,
   "id": "ed712537",
   "metadata": {},
   "outputs": [
    {
     "name": "stdout",
     "output_type": "stream",
     "text": [
      "Set parameter Username\n",
      "Academic license - for non-commercial use only - expires 2023-12-18\n"
     ]
    },
    {
     "data": {
      "text/html": [
       "<h3>Objective</h3><p>1.0 BiomassRepsolRed = 0.6904245146023713</p><h4>Uptake</h4><table border=\"1\" class=\"dataframe\">\n",
       "  <thead>\n",
       "    <tr style=\"text-align: right;\">\n",
       "      <th>Metabolite</th>\n",
       "      <th>Reaction</th>\n",
       "      <th>Flux</th>\n",
       "      <th>C-Number</th>\n",
       "      <th>C-Flux</th>\n",
       "    </tr>\n",
       "  </thead>\n",
       "  <tbody>\n",
       "    <tr>\n",
       "      <td>ca2_e</td>\n",
       "      <td>EX_ca2_e</td>\n",
       "      <td>0.00206</td>\n",
       "      <td>0</td>\n",
       "      <td>0.00%</td>\n",
       "    </tr>\n",
       "    <tr>\n",
       "      <td>fe2_e</td>\n",
       "      <td>EX_fe2_e</td>\n",
       "      <td>6.904E-07</td>\n",
       "      <td>0</td>\n",
       "      <td>0.00%</td>\n",
       "    </tr>\n",
       "    <tr>\n",
       "      <td>fe3_e</td>\n",
       "      <td>EX_fe3_e</td>\n",
       "      <td>0.002216</td>\n",
       "      <td>0</td>\n",
       "      <td>0.00%</td>\n",
       "    </tr>\n",
       "    <tr>\n",
       "      <td>glc__D_e</td>\n",
       "      <td>EX_glc__D_e</td>\n",
       "      <td>8.71</td>\n",
       "      <td>6</td>\n",
       "      <td>100.00%</td>\n",
       "    </tr>\n",
       "    <tr>\n",
       "      <td>h_e</td>\n",
       "      <td>EX_h_e</td>\n",
       "      <td>62.16</td>\n",
       "      <td>0</td>\n",
       "      <td>0.00%</td>\n",
       "    </tr>\n",
       "    <tr>\n",
       "      <td>k_e</td>\n",
       "      <td>EX_k_e</td>\n",
       "      <td>0.454</td>\n",
       "      <td>0</td>\n",
       "      <td>0.00%</td>\n",
       "    </tr>\n",
       "    <tr>\n",
       "      <td>mg2_e</td>\n",
       "      <td>EX_mg2_e</td>\n",
       "      <td>0.06541</td>\n",
       "      <td>0</td>\n",
       "      <td>0.00%</td>\n",
       "    </tr>\n",
       "    <tr>\n",
       "      <td>nh4_e</td>\n",
       "      <td>EX_nh4_e</td>\n",
       "      <td>5.519</td>\n",
       "      <td>0</td>\n",
       "      <td>0.00%</td>\n",
       "    </tr>\n",
       "    <tr>\n",
       "      <td>o2_e</td>\n",
       "      <td>EX_o2_e</td>\n",
       "      <td>18</td>\n",
       "      <td>0</td>\n",
       "      <td>0.00%</td>\n",
       "    </tr>\n",
       "    <tr>\n",
       "      <td>pi_e</td>\n",
       "      <td>EX_pi_e</td>\n",
       "      <td>0.6789</td>\n",
       "      <td>0</td>\n",
       "      <td>0.00%</td>\n",
       "    </tr>\n",
       "    <tr>\n",
       "      <td>so4_e</td>\n",
       "      <td>EX_so4_e</td>\n",
       "      <td>0.1175</td>\n",
       "      <td>0</td>\n",
       "      <td>0.00%</td>\n",
       "    </tr>\n",
       "  </tbody>\n",
       "</table><h4>Secretion</h4><table border=\"1\" class=\"dataframe\">\n",
       "  <thead>\n",
       "    <tr style=\"text-align: right;\">\n",
       "      <th>Metabolite</th>\n",
       "      <th>Reaction</th>\n",
       "      <th>Flux</th>\n",
       "      <th>C-Number</th>\n",
       "      <th>C-Flux</th>\n",
       "    </tr>\n",
       "  </thead>\n",
       "  <tbody>\n",
       "    <tr>\n",
       "      <td>4hba_e</td>\n",
       "      <td>EX_4hba_e</td>\n",
       "      <td>-6.904E-07</td>\n",
       "      <td>7</td>\n",
       "      <td>0.00%</td>\n",
       "    </tr>\n",
       "    <tr>\n",
       "      <td>biomass_c</td>\n",
       "      <td>EX_Biomass</td>\n",
       "      <td>-0.6904</td>\n",
       "      <td>0</td>\n",
       "      <td>0.00%</td>\n",
       "    </tr>\n",
       "    <tr>\n",
       "      <td>ac_e</td>\n",
       "      <td>EX_ac_e</td>\n",
       "      <td>-4.028</td>\n",
       "      <td>2</td>\n",
       "      <td>29.24%</td>\n",
       "    </tr>\n",
       "    <tr>\n",
       "      <td>co2_e</td>\n",
       "      <td>EX_co2_e</td>\n",
       "      <td>-19.49</td>\n",
       "      <td>1</td>\n",
       "      <td>70.76%</td>\n",
       "    </tr>\n",
       "    <tr>\n",
       "      <td>dad_5_e</td>\n",
       "      <td>EX_dad_5_e</td>\n",
       "      <td>-1.381E-06</td>\n",
       "      <td>10</td>\n",
       "      <td>0.00%</td>\n",
       "    </tr>\n",
       "    <tr>\n",
       "      <td>h2o_e</td>\n",
       "      <td>EX_h2o_e</td>\n",
       "      <td>-30.51</td>\n",
       "      <td>0</td>\n",
       "      <td>0.00%</td>\n",
       "    </tr>\n",
       "  </tbody>\n",
       "</table>"
      ],
      "text/plain": [
       "<cobra.summary.model_summary.ModelSummary at 0x7fa73c5d2880>"
      ]
     },
     "execution_count": 2,
     "metadata": {},
     "output_type": "execute_result"
    }
   ],
   "source": [
    "mod4 = read_sbml_model('iBB1018.xml')\n",
    "mod4.summary()"
   ]
  },
  {
   "cell_type": "code",
   "execution_count": 6,
   "id": "4356b75c",
   "metadata": {},
   "outputs": [
    {
     "data": {
      "text/html": [
       "<h3>dhap_c</h3><p>C3H5O6P</p><h4>Producing Reactions</h4><table border=\"1\" class=\"dataframe\">\n",
       "  <thead>\n",
       "    <tr style=\"text-align: right;\">\n",
       "      <th>Percent</th>\n",
       "      <th>Flux</th>\n",
       "      <th>Reaction</th>\n",
       "      <th>Definition</th>\n",
       "    </tr>\n",
       "  </thead>\n",
       "  <tbody>\n",
       "    <tr>\n",
       "      <td>89.15%</td>\n",
       "      <td>7.997</td>\n",
       "      <td>FBA</td>\n",
       "      <td>fdp_c &lt;=&gt; dhap_c + g3p_c</td>\n",
       "    </tr>\n",
       "    <tr>\n",
       "      <td>10.85%</td>\n",
       "      <td>0.9733</td>\n",
       "      <td>G3PD6</td>\n",
       "      <td>glyc3p_c + mqn7_c --&gt; dhap_c + mql7_c</td>\n",
       "    </tr>\n",
       "  </tbody>\n",
       "</table><h4>Consuming Reactions</h4><table border=\"1\" class=\"dataframe\">\n",
       "  <thead>\n",
       "    <tr style=\"text-align: right;\">\n",
       "      <th>Percent</th>\n",
       "      <th>Flux</th>\n",
       "      <th>Reaction</th>\n",
       "      <th>Definition</th>\n",
       "    </tr>\n",
       "  </thead>\n",
       "  <tbody>\n",
       "    <tr>\n",
       "      <td>15.56%</td>\n",
       "      <td>-1.396</td>\n",
       "      <td>G3PD2</td>\n",
       "      <td>glyc3p_c + nadp_c &lt;=&gt; dhap_c + h_c + nadph_c</td>\n",
       "    </tr>\n",
       "    <tr>\n",
       "      <td>0.15%</td>\n",
       "      <td>-0.01347</td>\n",
       "      <td>QULNS</td>\n",
       "      <td>dhap_c + iasp_c --&gt; 2.0 h2o_c + pi_c + quln_c</td>\n",
       "    </tr>\n",
       "    <tr>\n",
       "      <td>84.29%</td>\n",
       "      <td>-7.561</td>\n",
       "      <td>TPI</td>\n",
       "      <td>dhap_c &lt;=&gt; g3p_c</td>\n",
       "    </tr>\n",
       "  </tbody>\n",
       "</table>"
      ],
      "text/plain": [
       "<cobra.summary.metabolite_summary.MetaboliteSummary at 0x7fa784f766a0>"
      ]
     },
     "execution_count": 6,
     "metadata": {},
     "output_type": "execute_result"
    }
   ],
   "source": [
    "mod4.metabolites.get_by_id('dhap_c').summary()"
   ]
  },
  {
   "cell_type": "code",
   "execution_count": 18,
   "id": "99b63364",
   "metadata": {},
   "outputs": [
    {
     "data": {
      "text/html": [
       "<h3>CYOO3</h3><p>2.0 focytcc_c + 6.0 h_c + 0.5 o2_c --> 2.0 ficytcc_c + h2o_c + 4.0 h_e</p><p>Bounds: 0.0, 1000.0</p><p>Flux: 36</p>"
      ],
      "text/plain": [
       "<cobra.summary.reaction_summary.ReactionSummary at 0x7f22d627d2e0>"
      ]
     },
     "execution_count": 18,
     "metadata": {},
     "output_type": "execute_result"
    }
   ],
   "source": [
    "mod4.reactions.get_by_id('CYOO3').summary()"
   ]
  },
  {
   "cell_type": "code",
   "execution_count": 20,
   "id": "17b0bee4",
   "metadata": {},
   "outputs": [
    {
     "data": {
      "text/plain": [
       "'0.00020683 10fthf_c + 0.00027311 ACP_c + 0.076 Lipids_c + 0.0304 Lipoteichoic_c + 0.2242 MNXM16624_c + 1e-06 MNXM96070_c + 0.005253 amp_c + 105.0034 atp_c + 0.002983 ca2_c + 0.0002924 cdp_c + 0.001153 cmp_c + 0.00012762 coa_c + 0.0006105 ctp_c + 0.026 dna_c + 1e-06 fad_c + 0.003209 fe3_c + 0.0002215 gdp_c + 0.0005939 gmp_c + 0.0004883 gtp_c + 105.0 h2o_c + 0.6576 k_c + 0.0655 mRNA_c + 0.09474 mg2_c + 0.00014977 mql7_c + 0.01822 nad_c + 0.001053 nadp_c + 0.0002367 nadph_c + 1e-06 pheme_c + 0.0008548 ppi_c + 0.5284 proteins_c + 1e-06 pydx5p_c + 1e-06 thmpp_c --> 104.9971 adp_c + 0.00027311 apoACP_c + biomass_c + 104.9866 pi_c'"
      ]
     },
     "execution_count": 20,
     "metadata": {},
     "output_type": "execute_result"
    }
   ],
   "source": [
    "mod4.reactions.get_by_id('BiomassRepsol').reaction"
   ]
  },
  {
   "cell_type": "code",
   "execution_count": null,
   "id": "efb24542",
   "metadata": {},
   "outputs": [],
   "source": []
  }
 ],
 "metadata": {
  "kernelspec": {
   "display_name": "Python 3 (ipykernel)",
   "language": "python",
   "name": "python3"
  },
  "language_info": {
   "codemirror_mode": {
    "name": "ipython",
    "version": 3
   },
   "file_extension": ".py",
   "mimetype": "text/x-python",
   "name": "python",
   "nbconvert_exporter": "python",
   "pygments_lexer": "ipython3",
   "version": "3.8.8"
  }
 },
 "nbformat": 4,
 "nbformat_minor": 5
}
