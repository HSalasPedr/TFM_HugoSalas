{
 "cells": [
  {
   "cell_type": "code",
   "execution_count": 1,
   "id": "0ca74bd2",
   "metadata": {},
   "outputs": [],
   "source": [
    "import cobra as cb\n",
    "from cobra.io import read_sbml_model\n",
    "from excelToSBML import excel_to_sbml"
   ]
  },
  {
   "cell_type": "code",
   "execution_count": 3,
   "id": "a40b74ad",
   "metadata": {},
   "outputs": [
    {
     "name": "stdout",
     "output_type": "stream",
     "text": [
      "Loading metabolites...\n",
      "Loading reactions...\n"
     ]
    }
   ],
   "source": [
    "out_mod = excel_to_sbml('5_PmegMOA_ManuallyAddedReactionsFromBsubt2.xlsx', 'PmegMOA_AfterManualAddition')"
   ]
  },
  {
   "cell_type": "code",
   "execution_count": 2,
   "id": "6d94d81e",
   "metadata": {},
   "outputs": [
    {
     "name": "stdout",
     "output_type": "stream",
     "text": [
      "Set parameter Username\n",
      "Academic license - for non-commercial use only - expires 2023-12-18\n"
     ]
    },
    {
     "data": {
      "text/html": [
       "<h3>Objective</h3><p>1.0 biomass = 0.8461560342189691</p><h4>Uptake</h4><table border=\"1\" class=\"dataframe\">\n",
       "  <thead>\n",
       "    <tr style=\"text-align: right;\">\n",
       "      <th>Metabolite</th>\n",
       "      <th>Reaction</th>\n",
       "      <th>Flux</th>\n",
       "      <th>C-Number</th>\n",
       "      <th>C-Flux</th>\n",
       "    </tr>\n",
       "  </thead>\n",
       "  <tbody>\n",
       "    <tr>\n",
       "      <td>GLC[e]</td>\n",
       "      <td>Re_bm01273</td>\n",
       "      <td>5</td>\n",
       "      <td>6</td>\n",
       "      <td>93.85%</td>\n",
       "    </tr>\n",
       "    <tr>\n",
       "      <td>CA[e]</td>\n",
       "      <td>Re_bm01294</td>\n",
       "      <td>0.0264</td>\n",
       "      <td>0</td>\n",
       "      <td>0.00%</td>\n",
       "    </tr>\n",
       "    <tr>\n",
       "      <td>O2[e]</td>\n",
       "      <td>Re_bm01302</td>\n",
       "      <td>0.04366</td>\n",
       "      <td>0</td>\n",
       "      <td>0.00%</td>\n",
       "    </tr>\n",
       "    <tr>\n",
       "      <td>NH3[e]</td>\n",
       "      <td>Re_bm01304</td>\n",
       "      <td>6.701</td>\n",
       "      <td>0</td>\n",
       "      <td>0.00%</td>\n",
       "    </tr>\n",
       "    <tr>\n",
       "      <td>K[e]</td>\n",
       "      <td>Re_bm01306</td>\n",
       "      <td>0.3288</td>\n",
       "      <td>0</td>\n",
       "      <td>0.00%</td>\n",
       "    </tr>\n",
       "    <tr>\n",
       "      <td>MG[e]</td>\n",
       "      <td>Re_bm01307</td>\n",
       "      <td>0.08394</td>\n",
       "      <td>0</td>\n",
       "      <td>0.00%</td>\n",
       "    </tr>\n",
       "    <tr>\n",
       "      <td>FE2[e]</td>\n",
       "      <td>Re_bm01308</td>\n",
       "      <td>0.002843</td>\n",
       "      <td>0</td>\n",
       "      <td>0.00%</td>\n",
       "    </tr>\n",
       "    <tr>\n",
       "      <td>PI[e]</td>\n",
       "      <td>Re_bm01313</td>\n",
       "      <td>0.5782</td>\n",
       "      <td>0</td>\n",
       "      <td>0.00%</td>\n",
       "    </tr>\n",
       "    <tr>\n",
       "      <td>SME3P[e]</td>\n",
       "      <td>Re_bm01686</td>\n",
       "      <td>0.2808</td>\n",
       "      <td>7</td>\n",
       "      <td>6.15%</td>\n",
       "    </tr>\n",
       "  </tbody>\n",
       "</table><h4>Secretion</h4><table border=\"1\" class=\"dataframe\">\n",
       "  <thead>\n",
       "    <tr style=\"text-align: right;\">\n",
       "      <th>Metabolite</th>\n",
       "      <th>Reaction</th>\n",
       "      <th>Flux</th>\n",
       "      <th>C-Number</th>\n",
       "      <th>C-Flux</th>\n",
       "    </tr>\n",
       "  </thead>\n",
       "  <tbody>\n",
       "    <tr>\n",
       "      <td>CO2[e]</td>\n",
       "      <td>Re_bm01300</td>\n",
       "      <td>-1.626</td>\n",
       "      <td>1</td>\n",
       "      <td>100.00%</td>\n",
       "    </tr>\n",
       "    <tr>\n",
       "      <td>H2O[e]</td>\n",
       "      <td>Re_bm01301</td>\n",
       "      <td>-14.41</td>\n",
       "      <td>0</td>\n",
       "      <td>0.00%</td>\n",
       "    </tr>\n",
       "    <tr>\n",
       "      <td>H[e]</td>\n",
       "      <td>Re_bm01309</td>\n",
       "      <td>-4.339</td>\n",
       "      <td>0</td>\n",
       "      <td>0.00%</td>\n",
       "    </tr>\n",
       "  </tbody>\n",
       "</table>"
      ],
      "text/plain": [
       "<cobra.summary.model_summary.ModelSummary at 0x7f1171e96580>"
      ]
     },
     "execution_count": 2,
     "metadata": {},
     "output_type": "execute_result"
    }
   ],
   "source": [
    "mod = read_sbml_model('PmegMOA_AfterManualAddition.xml')\n",
    "mod.summary()"
   ]
  },
  {
   "cell_type": "code",
   "execution_count": 3,
   "id": "053edaf4",
   "metadata": {},
   "outputs": [
    {
     "data": {
      "text/html": [
       "<h3>Objective</h3><p>1.0 biomass = 0.23200623920292895</p><h4>Uptake</h4><table border=\"1\" class=\"dataframe\">\n",
       "  <thead>\n",
       "    <tr style=\"text-align: right;\">\n",
       "      <th>Metabolite</th>\n",
       "      <th>Reaction</th>\n",
       "      <th>Flux</th>\n",
       "      <th>C-Number</th>\n",
       "      <th>C-Flux</th>\n",
       "    </tr>\n",
       "  </thead>\n",
       "  <tbody>\n",
       "    <tr>\n",
       "      <td>GLC[e]</td>\n",
       "      <td>Re_bm01273</td>\n",
       "      <td>5</td>\n",
       "      <td>6</td>\n",
       "      <td>100.00%</td>\n",
       "    </tr>\n",
       "    <tr>\n",
       "      <td>CA[e]</td>\n",
       "      <td>Re_bm01294</td>\n",
       "      <td>0.007239</td>\n",
       "      <td>0</td>\n",
       "      <td>0.00%</td>\n",
       "    </tr>\n",
       "    <tr>\n",
       "      <td>O2[e]</td>\n",
       "      <td>Re_bm01302</td>\n",
       "      <td>21.11</td>\n",
       "      <td>0</td>\n",
       "      <td>0.00%</td>\n",
       "    </tr>\n",
       "    <tr>\n",
       "      <td>NH3[e]</td>\n",
       "      <td>Re_bm01304</td>\n",
       "      <td>1.837</td>\n",
       "      <td>0</td>\n",
       "      <td>0.00%</td>\n",
       "    </tr>\n",
       "    <tr>\n",
       "      <td>K[e]</td>\n",
       "      <td>Re_bm01306</td>\n",
       "      <td>0.09016</td>\n",
       "      <td>0</td>\n",
       "      <td>0.00%</td>\n",
       "    </tr>\n",
       "    <tr>\n",
       "      <td>MG[e]</td>\n",
       "      <td>Re_bm01307</td>\n",
       "      <td>0.02302</td>\n",
       "      <td>0</td>\n",
       "      <td>0.00%</td>\n",
       "    </tr>\n",
       "    <tr>\n",
       "      <td>FE2[e]</td>\n",
       "      <td>Re_bm01308</td>\n",
       "      <td>0.0007795</td>\n",
       "      <td>0</td>\n",
       "      <td>0.00%</td>\n",
       "    </tr>\n",
       "    <tr>\n",
       "      <td>PI[e]</td>\n",
       "      <td>Re_bm01313</td>\n",
       "      <td>0.2355</td>\n",
       "      <td>0</td>\n",
       "      <td>0.00%</td>\n",
       "    </tr>\n",
       "  </tbody>\n",
       "</table><h4>Secretion</h4><table border=\"1\" class=\"dataframe\">\n",
       "  <thead>\n",
       "    <tr style=\"text-align: right;\">\n",
       "      <th>Metabolite</th>\n",
       "      <th>Reaction</th>\n",
       "      <th>Flux</th>\n",
       "      <th>C-Number</th>\n",
       "      <th>C-Flux</th>\n",
       "    </tr>\n",
       "  </thead>\n",
       "  <tbody>\n",
       "    <tr>\n",
       "      <td>CO2[e]</td>\n",
       "      <td>Re_bm01300</td>\n",
       "      <td>-21.59</td>\n",
       "      <td>1</td>\n",
       "      <td>100.00%</td>\n",
       "    </tr>\n",
       "    <tr>\n",
       "      <td>H2O[e]</td>\n",
       "      <td>Re_bm01301</td>\n",
       "      <td>-25.33</td>\n",
       "      <td>0</td>\n",
       "      <td>0.00%</td>\n",
       "    </tr>\n",
       "    <tr>\n",
       "      <td>H[e]</td>\n",
       "      <td>Re_bm01309</td>\n",
       "      <td>-8.444</td>\n",
       "      <td>0</td>\n",
       "      <td>0.00%</td>\n",
       "    </tr>\n",
       "  </tbody>\n",
       "</table>"
      ],
      "text/plain": [
       "<cobra.summary.model_summary.ModelSummary at 0x7f11291bcbb0>"
      ]
     },
     "execution_count": 3,
     "metadata": {},
     "output_type": "execute_result"
    }
   ],
   "source": [
    "mod2 = read_sbml_model('DSM319_fixedIDs.xml')\n",
    "mod2.reactions.get_by_id('Rt_bm01687').lower_bound = 0\n",
    "mod2.summary()"
   ]
  },
  {
   "cell_type": "markdown",
   "id": "d13dc5e1",
   "metadata": {},
   "source": [
    "### Our model consumes very little $O_2$, check why"
   ]
  },
  {
   "cell_type": "code",
   "execution_count": 4,
   "id": "6a337e61",
   "metadata": {},
   "outputs": [],
   "source": [
    "reacs_mod = set([i._id for i in mod.reactions])\n",
    "reacs_mod2 = set(i._id for i in mod2.reactions)"
   ]
  },
  {
   "cell_type": "code",
   "execution_count": 5,
   "id": "487294b9",
   "metadata": {},
   "outputs": [
    {
     "name": "stdout",
     "output_type": "stream",
     "text": [
      "{'SSALx', 'RxnBME0446', 'AHSERL', 'P5CRx', 'VALTA', 'GLYAT', 'MTAP', 'RxnBME0449', 'GLYCK2', 'RxnBME0444', 'ICDHyr', 'P5CR', 'ALATA_L', 'LEUTA', 'TRPS1', 'HSDxi', 'PDH'}\n"
     ]
    }
   ],
   "source": [
    "extra_reacs = reacs_mod.difference(reacs_mod2)\n",
    "print(extra_reacs)"
   ]
  },
  {
   "cell_type": "code",
   "execution_count": 24,
   "id": "13881672",
   "metadata": {},
   "outputs": [
    {
     "data": {
      "text/html": [
       "\n",
       "        <table>\n",
       "            <tr>\n",
       "                <td><strong>Reaction identifier</strong></td><td>GLYCK2</td>\n",
       "            </tr><tr>\n",
       "                <td><strong>Name</strong></td><td>nan</td>\n",
       "            </tr><tr>\n",
       "                <td><strong>Memory address</strong></td>\n",
       "                <td>0x7f11296264f0</td>\n",
       "            </tr><tr>\n",
       "                <td><strong>Stoichiometry</strong></td>\n",
       "                <td>\n",
       "                    <p style='text-align:right'>ATP[c] + G[c] <=> 2PG[c] + ADP[c] + H[c]</p>\n",
       "                    <p style='text-align:right'>ATP + D-Glycerate <=> 2-Phospho-D-glycerate + ADP + H+</p>\n",
       "                </td>\n",
       "            </tr><tr>\n",
       "                <td><strong>GPR</strong></td><td></td>\n",
       "            </tr><tr>\n",
       "                <td><strong>Lower bound</strong></td><td>-999999.0</td>\n",
       "            </tr><tr>\n",
       "                <td><strong>Upper bound</strong></td><td>999999.0</td>\n",
       "            </tr>\n",
       "        </table>\n",
       "        "
      ],
      "text/plain": [
       "<Reaction GLYCK2 at 0x7f11296264f0>"
      ]
     },
     "execution_count": 24,
     "metadata": {},
     "output_type": "execute_result"
    }
   ],
   "source": [
    "mod.reactions.get_by_id('GLYCK2')"
   ]
  },
  {
   "cell_type": "code",
   "execution_count": 25,
   "id": "f889a994",
   "metadata": {},
   "outputs": [
    {
     "data": {
      "text/html": [
       "<h3>Objective</h3><p>1.0 biomass = 0.23306221438734392</p><h4>Uptake</h4><table border=\"1\" class=\"dataframe\">\n",
       "  <thead>\n",
       "    <tr style=\"text-align: right;\">\n",
       "      <th>Metabolite</th>\n",
       "      <th>Reaction</th>\n",
       "      <th>Flux</th>\n",
       "      <th>C-Number</th>\n",
       "      <th>C-Flux</th>\n",
       "    </tr>\n",
       "  </thead>\n",
       "  <tbody>\n",
       "    <tr>\n",
       "      <td>GLC[e]</td>\n",
       "      <td>Re_bm01273</td>\n",
       "      <td>5</td>\n",
       "      <td>6</td>\n",
       "      <td>100.00%</td>\n",
       "    </tr>\n",
       "    <tr>\n",
       "      <td>CA[e]</td>\n",
       "      <td>Re_bm01294</td>\n",
       "      <td>0.007272</td>\n",
       "      <td>0</td>\n",
       "      <td>0.00%</td>\n",
       "    </tr>\n",
       "    <tr>\n",
       "      <td>O2[e]</td>\n",
       "      <td>Re_bm01302</td>\n",
       "      <td>21.21</td>\n",
       "      <td>0</td>\n",
       "      <td>0.00%</td>\n",
       "    </tr>\n",
       "    <tr>\n",
       "      <td>NH3[e]</td>\n",
       "      <td>Re_bm01304</td>\n",
       "      <td>1.846</td>\n",
       "      <td>0</td>\n",
       "      <td>0.00%</td>\n",
       "    </tr>\n",
       "    <tr>\n",
       "      <td>K[e]</td>\n",
       "      <td>Re_bm01306</td>\n",
       "      <td>0.09057</td>\n",
       "      <td>0</td>\n",
       "      <td>0.00%</td>\n",
       "    </tr>\n",
       "    <tr>\n",
       "      <td>MG[e]</td>\n",
       "      <td>Re_bm01307</td>\n",
       "      <td>0.02312</td>\n",
       "      <td>0</td>\n",
       "      <td>0.00%</td>\n",
       "    </tr>\n",
       "    <tr>\n",
       "      <td>FE2[e]</td>\n",
       "      <td>Re_bm01308</td>\n",
       "      <td>0.0007831</td>\n",
       "      <td>0</td>\n",
       "      <td>0.00%</td>\n",
       "    </tr>\n",
       "    <tr>\n",
       "      <td>PI[e]</td>\n",
       "      <td>Re_bm01313</td>\n",
       "      <td>0.2366</td>\n",
       "      <td>0</td>\n",
       "      <td>0.00%</td>\n",
       "    </tr>\n",
       "  </tbody>\n",
       "</table><h4>Secretion</h4><table border=\"1\" class=\"dataframe\">\n",
       "  <thead>\n",
       "    <tr style=\"text-align: right;\">\n",
       "      <th>Metabolite</th>\n",
       "      <th>Reaction</th>\n",
       "      <th>Flux</th>\n",
       "      <th>C-Number</th>\n",
       "      <th>C-Flux</th>\n",
       "    </tr>\n",
       "  </thead>\n",
       "  <tbody>\n",
       "    <tr>\n",
       "      <td>CO2[e]</td>\n",
       "      <td>Re_bm01300</td>\n",
       "      <td>-21.64</td>\n",
       "      <td>1</td>\n",
       "      <td>100.00%</td>\n",
       "    </tr>\n",
       "    <tr>\n",
       "      <td>H2O[e]</td>\n",
       "      <td>Re_bm01301</td>\n",
       "      <td>-25.4</td>\n",
       "      <td>0</td>\n",
       "      <td>0.00%</td>\n",
       "    </tr>\n",
       "  </tbody>\n",
       "</table>"
      ],
      "text/plain": [
       "<cobra.summary.model_summary.ModelSummary at 0x7f11285b60a0>"
      ]
     },
     "execution_count": 25,
     "metadata": {},
     "output_type": "execute_result"
    }
   ],
   "source": [
    "mod.reactions.get_by_id('Rt_bm01687').lower_bound = 0 # No taking shikiamte from the culture media\n",
    "mod.reactions.get_by_id('RxnBME0444').upper_bound = 0\n",
    "mod.reactions.get_by_id('RxnBME0449').upper_bound = 0\n",
    "mod.reactions.get_by_id('bm00374').lower_bound = 0\n",
    "mod.reactions.get_by_id('bm00451').lower_bound = 0\n",
    "mod.reactions.get_by_id('Re_bm01309').lower_bound = -30\n",
    "mod.reactions.get_by_id('GLYCK2').lower_bound = 0\n",
    "    \n",
    "mod.summary()"
   ]
  },
  {
   "cell_type": "markdown",
   "id": "c8c5fa4c",
   "metadata": {},
   "source": [
    "Once identified the reactions that caused the model no to behave as backed up by literature, the changes are reflected in the final model"
   ]
  },
  {
   "cell_type": "markdown",
   "id": "1a5bf8a7",
   "metadata": {},
   "source": [
    "### Comparing the $O_2$ route for both models"
   ]
  },
  {
   "cell_type": "code",
   "execution_count": 19,
   "id": "7d57c870",
   "metadata": {},
   "outputs": [
    {
     "data": {
      "text/html": [
       "<h3>GLYA[c]</h3><p>C2H3O3</p><h4>Producing Reactions</h4><table border=\"1\" class=\"dataframe\">\n",
       "  <thead>\n",
       "    <tr style=\"text-align: right;\">\n",
       "      <th>Percent</th>\n",
       "      <th>Flux</th>\n",
       "      <th>Reaction</th>\n",
       "      <th>Definition</th>\n",
       "    </tr>\n",
       "  </thead>\n",
       "  <tbody>\n",
       "    <tr>\n",
       "      <td>100.00%</td>\n",
       "      <td>0.0001922</td>\n",
       "      <td>bm00422</td>\n",
       "      <td>GLAL[c] + H2O[c] + NAD[c] --&gt; GLYA[c] + 2.0 H[c] + NADH[c]</td>\n",
       "    </tr>\n",
       "  </tbody>\n",
       "</table><h4>Consuming Reactions</h4><table border=\"1\" class=\"dataframe\">\n",
       "  <thead>\n",
       "    <tr style=\"text-align: right;\">\n",
       "      <th>Percent</th>\n",
       "      <th>Flux</th>\n",
       "      <th>Reaction</th>\n",
       "      <th>Definition</th>\n",
       "    </tr>\n",
       "  </thead>\n",
       "  <tbody>\n",
       "    <tr>\n",
       "      <td>100.00%</td>\n",
       "      <td>-0.0001922</td>\n",
       "      <td>bm00431</td>\n",
       "      <td>GLX[c] + H[c] + NADH[c] &lt;=&gt; GLYA[c] + NAD[c]</td>\n",
       "    </tr>\n",
       "  </tbody>\n",
       "</table>"
      ],
      "text/plain": [
       "<cobra.summary.metabolite_summary.MetaboliteSummary at 0x7f8b4dc20640>"
      ]
     },
     "execution_count": 19,
     "metadata": {},
     "output_type": "execute_result"
    }
   ],
   "source": [
    "mod.metabolites.get_by_id('GLYA[c]').summary()"
   ]
  },
  {
   "cell_type": "code",
   "execution_count": 20,
   "id": "82d06581",
   "metadata": {},
   "outputs": [
    {
     "data": {
      "text/html": [
       "<h3>GLYA[c]</h3><p>C2H3O3</p><h4>Producing Reactions</h4><table border=\"1\" class=\"dataframe\">\n",
       "  <thead>\n",
       "    <tr style=\"text-align: right;\">\n",
       "      <th>Percent</th>\n",
       "      <th>Flux</th>\n",
       "      <th>Reaction</th>\n",
       "      <th>Definition</th>\n",
       "    </tr>\n",
       "  </thead>\n",
       "  <tbody>\n",
       "    <tr>\n",
       "      <td>0.00%</td>\n",
       "      <td>8.352E-05</td>\n",
       "      <td>bm00422</td>\n",
       "      <td>GLAL[c] + H2O[c] + NAD[c] --&gt; GLYA[c] + 2.0 H[c] + NADH[c]</td>\n",
       "    </tr>\n",
       "    <tr>\n",
       "      <td>100.00%</td>\n",
       "      <td>10.3</td>\n",
       "      <td>bm00431</td>\n",
       "      <td>GLX[c] + H[c] + NADH[c] &lt;=&gt; GLYA[c] + NAD[c]</td>\n",
       "    </tr>\n",
       "  </tbody>\n",
       "</table><h4>Consuming Reactions</h4><table border=\"1\" class=\"dataframe\">\n",
       "  <thead>\n",
       "    <tr style=\"text-align: right;\">\n",
       "      <th>Percent</th>\n",
       "      <th>Flux</th>\n",
       "      <th>Reaction</th>\n",
       "      <th>Definition</th>\n",
       "    </tr>\n",
       "  </thead>\n",
       "  <tbody>\n",
       "    <tr>\n",
       "      <td>100.00%</td>\n",
       "      <td>-10.3</td>\n",
       "      <td>bm00382</td>\n",
       "      <td>GLYA[c] + O2[c] --&gt; GLX[c] + H2O2[c]</td>\n",
       "    </tr>\n",
       "  </tbody>\n",
       "</table>"
      ],
      "text/plain": [
       "<cobra.summary.metabolite_summary.MetaboliteSummary at 0x7f8b4dc3cac0>"
      ]
     },
     "execution_count": 20,
     "metadata": {},
     "output_type": "execute_result"
    }
   ],
   "source": [
    "mod2.metabolites.get_by_id('GLYA[c]').summary()"
   ]
  },
  {
   "cell_type": "code",
   "execution_count": 17,
   "id": "b9efa365",
   "metadata": {},
   "outputs": [
    {
     "data": {
      "text/html": [
       "\n",
       "        <table>\n",
       "            <tr>\n",
       "                <td><strong>Reaction identifier</strong></td><td>bm00382</td>\n",
       "            </tr><tr>\n",
       "                <td><strong>Name</strong></td><td>glycolate oxidase (glcD)</td>\n",
       "            </tr><tr>\n",
       "                <td><strong>Memory address</strong></td>\n",
       "                <td>0x7f8b4ebeaa90</td>\n",
       "            </tr><tr>\n",
       "                <td><strong>Stoichiometry</strong></td>\n",
       "                <td>\n",
       "                    <p style='text-align:right'>GLYA[c] + O2[c] --> GLX[c] + H2O2[c]</p>\n",
       "                    <p style='text-align:right'>Glycolate + O2 --> Glyoxylate + H2O2</p>\n",
       "                </td>\n",
       "            </tr><tr>\n",
       "                <td><strong>GPR</strong></td><td>BMD_RS14115</td>\n",
       "            </tr><tr>\n",
       "                <td><strong>Lower bound</strong></td><td>0.0</td>\n",
       "            </tr><tr>\n",
       "                <td><strong>Upper bound</strong></td><td>999999.0</td>\n",
       "            </tr>\n",
       "        </table>\n",
       "        "
      ],
      "text/plain": [
       "<Reaction bm00382 at 0x7f8b4ebeaa90>"
      ]
     },
     "execution_count": 17,
     "metadata": {},
     "output_type": "execute_result"
    }
   ],
   "source": [
    "mod.reactions.get_by_id('bm00382')"
   ]
  },
  {
   "cell_type": "code",
   "execution_count": 18,
   "id": "8545b2af",
   "metadata": {},
   "outputs": [
    {
     "data": {
      "text/html": [
       "\n",
       "        <table>\n",
       "            <tr>\n",
       "                <td><strong>Reaction identifier</strong></td><td>bm00382</td>\n",
       "            </tr><tr>\n",
       "                <td><strong>Name</strong></td><td>glycolate oxidase (glcD)</td>\n",
       "            </tr><tr>\n",
       "                <td><strong>Memory address</strong></td>\n",
       "                <td>0x7f8b4e5e7700</td>\n",
       "            </tr><tr>\n",
       "                <td><strong>Stoichiometry</strong></td>\n",
       "                <td>\n",
       "                    <p style='text-align:right'>GLYA[c] + O2[c] --> GLX[c] + H2O2[c]</p>\n",
       "                    <p style='text-align:right'>Glycolate + O2 --> Glyoxylate + H2O2</p>\n",
       "                </td>\n",
       "            </tr><tr>\n",
       "                <td><strong>GPR</strong></td><td>BMD_RS14125 or BMD_RS14115 or (BMD_RS12820 and BMD_RS12825) or BMD_RS14120</td>\n",
       "            </tr><tr>\n",
       "                <td><strong>Lower bound</strong></td><td>0.0</td>\n",
       "            </tr><tr>\n",
       "                <td><strong>Upper bound</strong></td><td>1000.0</td>\n",
       "            </tr>\n",
       "        </table>\n",
       "        "
      ],
      "text/plain": [
       "<Reaction bm00382 at 0x7f8b4e5e7700>"
      ]
     },
     "execution_count": 18,
     "metadata": {},
     "output_type": "execute_result"
    }
   ],
   "source": [
    "mod2.reactions.get_by_id('bm00382')"
   ]
  },
  {
   "cell_type": "code",
   "execution_count": 15,
   "id": "7df25d66",
   "metadata": {},
   "outputs": [
    {
     "data": {
      "text/html": [
       "<h3>H[e]</h3><p>H</p><h4>Producing Reactions</h4><table border=\"1\" class=\"dataframe\">\n",
       "  <thead>\n",
       "    <tr style=\"text-align: right;\">\n",
       "      <th>Percent</th>\n",
       "      <th>Flux</th>\n",
       "      <th>Reaction</th>\n",
       "      <th>Definition</th>\n",
       "    </tr>\n",
       "  </thead>\n",
       "  <tbody>\n",
       "    <tr>\n",
       "      <td>99.72%</td>\n",
       "      <td>37</td>\n",
       "      <td>Re_bm01309</td>\n",
       "      <td>H[e] &lt;=&gt;</td>\n",
       "    </tr>\n",
       "    <tr>\n",
       "      <td>0.04%</td>\n",
       "      <td>0.01666</td>\n",
       "      <td>Rt_bm01006</td>\n",
       "      <td>CA[c] + H[e] &lt;=&gt; CA[e] + H[c]</td>\n",
       "    </tr>\n",
       "    <tr>\n",
       "      <td>0.24%</td>\n",
       "      <td>0.0879</td>\n",
       "      <td>Rt_bm01692</td>\n",
       "      <td>FRU[c] + H[c] &lt;=&gt; FRU[e] + H[e]</td>\n",
       "    </tr>\n",
       "  </tbody>\n",
       "</table><h4>Consuming Reactions</h4><table border=\"1\" class=\"dataframe\">\n",
       "  <thead>\n",
       "    <tr style=\"text-align: right;\">\n",
       "      <th>Percent</th>\n",
       "      <th>Flux</th>\n",
       "      <th>Reaction</th>\n",
       "      <th>Definition</th>\n",
       "    </tr>\n",
       "  </thead>\n",
       "  <tbody>\n",
       "    <tr>\n",
       "      <td>42.25%</td>\n",
       "      <td>-15.68</td>\n",
       "      <td>Rt_bm01008</td>\n",
       "      <td>H[e] + K[c] --&gt; H[c] + K[e]</td>\n",
       "    </tr>\n",
       "    <tr>\n",
       "      <td>42.81%</td>\n",
       "      <td>-15.89</td>\n",
       "      <td>Rt_bm01010</td>\n",
       "      <td>H[e] + K[e] &lt;=&gt; H[c] + K[c]</td>\n",
       "    </tr>\n",
       "    <tr>\n",
       "      <td>1.46%</td>\n",
       "      <td>-0.5419</td>\n",
       "      <td>Rt_bm01015</td>\n",
       "      <td>H[c] + PI[c] &lt;=&gt; H[e] + PI[e]</td>\n",
       "    </tr>\n",
       "    <tr>\n",
       "      <td>13.47%</td>\n",
       "      <td>-5</td>\n",
       "      <td>Rt_bm01027</td>\n",
       "      <td>GLC[e] + H[e] --&gt; GLC[c] + H[c]</td>\n",
       "    </tr>\n",
       "  </tbody>\n",
       "</table>"
      ],
      "text/plain": [
       "<cobra.summary.metabolite_summary.MetaboliteSummary at 0x7f8b4dc70eb0>"
      ]
     },
     "execution_count": 15,
     "metadata": {},
     "output_type": "execute_result"
    }
   ],
   "source": [
    "mod.metabolites.get_by_id('H[e]').summary()"
   ]
  },
  {
   "cell_type": "code",
   "execution_count": null,
   "id": "09adfa0f",
   "metadata": {},
   "outputs": [],
   "source": []
  }
 ],
 "metadata": {
  "kernelspec": {
   "display_name": "Python 3 (ipykernel)",
   "language": "python",
   "name": "python3"
  },
  "language_info": {
   "codemirror_mode": {
    "name": "ipython",
    "version": 3
   },
   "file_extension": ".py",
   "mimetype": "text/x-python",
   "name": "python",
   "nbconvert_exporter": "python",
   "pygments_lexer": "ipython3",
   "version": "3.10.12"
  }
 },
 "nbformat": 4,
 "nbformat_minor": 5
}
