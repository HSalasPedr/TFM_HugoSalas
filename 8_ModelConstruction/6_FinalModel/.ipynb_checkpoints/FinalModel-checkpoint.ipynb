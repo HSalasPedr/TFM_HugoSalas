{
 "cells": [
  {
   "cell_type": "code",
   "execution_count": 1,
   "id": "62ec5993",
   "metadata": {},
   "outputs": [],
   "source": [
    "import cobra as cb\n",
    "from cobra.io import read_sbml_model\n",
    "from excelToSBML import excel_to_sbml"
   ]
  },
  {
   "cell_type": "code",
   "execution_count": 3,
   "id": "9e3aa3a1",
   "metadata": {},
   "outputs": [
    {
     "name": "stdout",
     "output_type": "stream",
     "text": [
      "Loading metabolites...\n",
      "Loading reactions...\n"
     ]
    }
   ],
   "source": [
    "out_mod = excel_to_sbml('5_PmegMOA_ManuallyAddedReactionsFromBsubt.xlsx', 'PmegMOA_AfterManualAddition')"
   ]
  },
  {
   "cell_type": "code",
   "execution_count": 4,
   "id": "63c14083",
   "metadata": {},
   "outputs": [
    {
     "data": {
      "text/html": [
       "<h3>Objective</h3><p>1.0 biomass = 0.23306221438734392</p><h4>Uptake</h4><table border=\"1\" class=\"dataframe\">\n",
       "  <thead>\n",
       "    <tr style=\"text-align: right;\">\n",
       "      <th>Metabolite</th>\n",
       "      <th>Reaction</th>\n",
       "      <th>Flux</th>\n",
       "      <th>C-Number</th>\n",
       "      <th>C-Flux</th>\n",
       "    </tr>\n",
       "  </thead>\n",
       "  <tbody>\n",
       "    <tr>\n",
       "      <td>GLC[e]</td>\n",
       "      <td>Re_bm01273</td>\n",
       "      <td>5</td>\n",
       "      <td>6</td>\n",
       "      <td>100.00%</td>\n",
       "    </tr>\n",
       "    <tr>\n",
       "      <td>CA[e]</td>\n",
       "      <td>Re_bm01294</td>\n",
       "      <td>0.007272</td>\n",
       "      <td>0</td>\n",
       "      <td>0.00%</td>\n",
       "    </tr>\n",
       "    <tr>\n",
       "      <td>O2[e]</td>\n",
       "      <td>Re_bm01302</td>\n",
       "      <td>21.21</td>\n",
       "      <td>0</td>\n",
       "      <td>0.00%</td>\n",
       "    </tr>\n",
       "    <tr>\n",
       "      <td>NH3[e]</td>\n",
       "      <td>Re_bm01304</td>\n",
       "      <td>1.846</td>\n",
       "      <td>0</td>\n",
       "      <td>0.00%</td>\n",
       "    </tr>\n",
       "    <tr>\n",
       "      <td>K[e]</td>\n",
       "      <td>Re_bm01306</td>\n",
       "      <td>0.09057</td>\n",
       "      <td>0</td>\n",
       "      <td>0.00%</td>\n",
       "    </tr>\n",
       "    <tr>\n",
       "      <td>MG[e]</td>\n",
       "      <td>Re_bm01307</td>\n",
       "      <td>0.02312</td>\n",
       "      <td>0</td>\n",
       "      <td>0.00%</td>\n",
       "    </tr>\n",
       "    <tr>\n",
       "      <td>FE2[e]</td>\n",
       "      <td>Re_bm01308</td>\n",
       "      <td>0.0007831</td>\n",
       "      <td>0</td>\n",
       "      <td>0.00%</td>\n",
       "    </tr>\n",
       "    <tr>\n",
       "      <td>PI[e]</td>\n",
       "      <td>Re_bm01313</td>\n",
       "      <td>0.2366</td>\n",
       "      <td>0</td>\n",
       "      <td>0.00%</td>\n",
       "    </tr>\n",
       "  </tbody>\n",
       "</table><h4>Secretion</h4><table border=\"1\" class=\"dataframe\">\n",
       "  <thead>\n",
       "    <tr style=\"text-align: right;\">\n",
       "      <th>Metabolite</th>\n",
       "      <th>Reaction</th>\n",
       "      <th>Flux</th>\n",
       "      <th>C-Number</th>\n",
       "      <th>C-Flux</th>\n",
       "    </tr>\n",
       "  </thead>\n",
       "  <tbody>\n",
       "    <tr>\n",
       "      <td>CO2[e]</td>\n",
       "      <td>Re_bm01300</td>\n",
       "      <td>-21.64</td>\n",
       "      <td>1</td>\n",
       "      <td>100.00%</td>\n",
       "    </tr>\n",
       "    <tr>\n",
       "      <td>H2O[e]</td>\n",
       "      <td>Re_bm01301</td>\n",
       "      <td>-25.4</td>\n",
       "      <td>0</td>\n",
       "      <td>0.00%</td>\n",
       "    </tr>\n",
       "  </tbody>\n",
       "</table>"
      ],
      "text/plain": [
       "<cobra.summary.model_summary.ModelSummary at 0x7f32c700bfa0>"
      ]
     },
     "execution_count": 4,
     "metadata": {},
     "output_type": "execute_result"
    }
   ],
   "source": [
    "mod = read_sbml_model('PmegMOA_AfterManualAddition.xml')\n",
    "mod.summary()"
   ]
  },
  {
   "cell_type": "code",
   "execution_count": null,
   "id": "2e7d89e4",
   "metadata": {},
   "outputs": [],
   "source": []
  }
 ],
 "metadata": {
  "kernelspec": {
   "display_name": "Python 3 (ipykernel)",
   "language": "python",
   "name": "python3"
  },
  "language_info": {
   "codemirror_mode": {
    "name": "ipython",
    "version": 3
   },
   "file_extension": ".py",
   "mimetype": "text/x-python",
   "name": "python",
   "nbconvert_exporter": "python",
   "pygments_lexer": "ipython3",
   "version": "3.8.8"
  }
 },
 "nbformat": 4,
 "nbformat_minor": 5
}
